{
 "cells": [
  {
   "cell_type": "code",
   "execution_count": 1,
   "metadata": {},
   "outputs": [
    {
     "name": "stdout",
     "output_type": "stream",
     "text": [
      "Requirement already satisfied: ortools in c:\\users\\simran\\anaconda3\\lib\\site-packages (7.4.7247)\n",
      "Requirement already satisfied: protobuf>=3.10.0 in c:\\users\\simran\\anaconda3\\lib\\site-packages (from ortools) (3.10.0)\n",
      "Requirement already satisfied: six>=1.10 in c:\\users\\simran\\anaconda3\\lib\\site-packages (from ortools) (1.12.0)\n",
      "Requirement already satisfied: setuptools in c:\\users\\simran\\anaconda3\\lib\\site-packages (from protobuf>=3.10.0->ortools) (41.0.1)\n"
     ]
    }
   ],
   "source": [
    "import numpy as np\n",
    "import pandas as pd\n",
    "!pip install ortools;\n",
    "import ortools\n",
    "from ortools.linear_solver import pywraplp\n",
    "import pickle \n",
    "\n",
    "solver = pywraplp.Solver('LinearProgrammingExample',\n",
    "                         pywraplp.Solver.GLOP_LINEAR_PROGRAMMING)\n",
    "\n",
    "\n",
    "df = pd.read_pickle(\"dummy.pkl\")"
   ]
  },
  {
   "cell_type": "code",
   "execution_count": 2,
   "metadata": {},
   "outputs": [],
   "source": [
    "vectors = df[\"Vector\"]\n",
    "distances = np.zeros((2500,2500))\n",
    "from scipy.spatial import distance\n",
    "\n",
    "for i in range(len(vectors)):\n",
    "    a = vectors[i]\n",
    "    for j in range(len(vectors)):\n",
    "        b = vectors[j]\n",
    "        dst = distance.cityblock(a, b)\n",
    "        distances[i,j] = dst"
   ]
  },
  {
   "cell_type": "code",
   "execution_count": 3,
   "metadata": {},
   "outputs": [],
   "source": [
    "C = []\n",
    "authors = df[\"Author\"].unique()\n",
    "\n",
    "for i in authors:\n",
    "  df_sub = df[df[\"Author\"] == i]\n",
    "  C.append(df_sub.index.values)"
   ]
  },
  {
   "cell_type": "code",
   "execution_count": 4,
   "metadata": {},
   "outputs": [],
   "source": [
    "a = 0.5\n",
    "a_1 = np.ceil(1/a)\n",
    "colors = 50\n",
    "k = 25\n",
    "lam = 15\n",
    "n = 2500"
   ]
  },
  {
   "cell_type": "code",
   "execution_count": 1,
   "metadata": {},
   "outputs": [
    {
     "ename": "NameError",
     "evalue": "name 'np' is not defined",
     "output_type": "error",
     "traceback": [
      "\u001b[1;31m---------------------------------------------------------------------------\u001b[0m",
      "\u001b[1;31mNameError\u001b[0m                                 Traceback (most recent call last)",
      "\u001b[1;32m<ipython-input-1-34342d7106e5>\u001b[0m in \u001b[0;36m<module>\u001b[1;34m\u001b[0m\n\u001b[0;32m      2\u001b[0m \u001b[0my\u001b[0m \u001b[1;33m=\u001b[0m \u001b[1;33m[\u001b[0m\u001b[1;33m]\u001b[0m\u001b[1;33m\u001b[0m\u001b[1;33m\u001b[0m\u001b[0m\n\u001b[0;32m      3\u001b[0m \u001b[0ma\u001b[0m \u001b[1;33m=\u001b[0m \u001b[1;36m0.5\u001b[0m\u001b[1;33m\u001b[0m\u001b[1;33m\u001b[0m\u001b[0m\n\u001b[1;32m----> 4\u001b[1;33m \u001b[0ma_1\u001b[0m \u001b[1;33m=\u001b[0m \u001b[0mnp\u001b[0m\u001b[1;33m.\u001b[0m\u001b[0mceil\u001b[0m\u001b[1;33m(\u001b[0m\u001b[1;36m1\u001b[0m\u001b[1;33m/\u001b[0m\u001b[0ma\u001b[0m\u001b[1;33m)\u001b[0m\u001b[1;33m\u001b[0m\u001b[1;33m\u001b[0m\u001b[0m\n\u001b[0m\u001b[0;32m      5\u001b[0m \u001b[0mcolors\u001b[0m \u001b[1;33m=\u001b[0m \u001b[1;36m50\u001b[0m\u001b[1;33m\u001b[0m\u001b[1;33m\u001b[0m\u001b[0m\n\u001b[0;32m      6\u001b[0m \u001b[0mk\u001b[0m \u001b[1;33m=\u001b[0m \u001b[1;36m25\u001b[0m\u001b[1;33m\u001b[0m\u001b[1;33m\u001b[0m\u001b[0m\n",
      "\u001b[1;31mNameError\u001b[0m: name 'np' is not defined"
     ]
    }
   ],
   "source": [
    "x = []\n",
    "y = []\n",
    "a = 0.5\n",
    "a_1 = np.ceil(1/a)\n",
    "colors = 50\n",
    "k = 25\n",
    "#lam = 15\n",
    "n = 2500\n",
    "F_small = []\n",
    "\n",
    "solver = pywraplp.Solver('LP',\n",
    "                         pywraplp.Solver.GLOP_LINEAR_PROGRAMMING)\n",
    "\n",
    "objective = solver.Objective()\n",
    "for i in range(n):\n",
    "    x.append([])\n",
    "    y.append(solver.NumVar(0.0, 1.0,'y'))\n",
    "    for j in range(n):\n",
    "        x[i].append(solver.NumVar(0.0, 1.0,'x'))\n",
    "        objective.SetCoefficient(x[i][j], distances[i][j])\n",
    "objective.SetMinimization()\n",
    "\n",
    "constraint = []\n",
    "for j in range(n):\n",
    "    constraint.append(solver.Constraint(1, 1))\n",
    "    for i in range(n):\n",
    "        constraint[j].SetCoefficient(x[i][j],1)\n",
    "\n",
    "for i in range(n):\n",
    "    for j in range(n):\n",
    "        constraint.append(solver.Constraint(-solver.infinity(), 0))\n",
    "        constraint[-1].SetCoefficient(x[i][j],1)\n",
    "        constraint[-1].SetCoefficient(y[i],-1)\n",
    "\n",
    "for i in range(colors):\n",
    "    constraint.append(solver.Constraint(-solver.infinity(), 0))\n",
    "    for j in range(n):\n",
    "        constraint[-1].SetCoefficient(x[i][j],-a)\n",
    "    if j in C[i]:\n",
    "        constraint[-1].SetCoefficient(x[i][j],1-a)\n",
    "\n",
    "for i in range(n):\n",
    "    constraint.append(solver.Constraint(0, solver.infinity()))\n",
    "    for j in range(n):\n",
    "        constraint[-1].SetCoefficient(x[i][j],1)\n",
    "        constraint[-1].SetCoefficient(y[i],-a_1)\n",
    "\n",
    "constraint.append(solver.Constraint(0, k))\n",
    "for i in range(n):\n",
    "    constraint[-1].SetCoefficient(y[i],1)\n",
    "\n",
    "#for i in range(n):\n",
    "#    for j in range(n):\n",
    "#        if distances[i,j] > lam:\n",
    "#            constraint.append(solver.Constraint(0, 0))\n",
    "#            constraint[-1].SetCoefficient(x[i][j],1)\n",
    "\n",
    "status = solver.Solve()\n",
    "status == solver.OPTIMAL"
   ]
  },
  {
   "cell_type": "code",
   "execution_count": null,
   "metadata": {},
   "outputs": [],
   "source": []
  },
  {
   "cell_type": "code",
   "execution_count": null,
   "metadata": {},
   "outputs": [],
   "source": []
  }
 ],
 "metadata": {
  "kernelspec": {
   "display_name": "Python 3",
   "language": "python",
   "name": "python3"
  },
  "language_info": {
   "codemirror_mode": {
    "name": "ipython",
    "version": 3
   },
   "file_extension": ".py",
   "mimetype": "text/x-python",
   "name": "python",
   "nbconvert_exporter": "python",
   "pygments_lexer": "ipython3",
   "version": "3.7.3"
  }
 },
 "nbformat": 4,
 "nbformat_minor": 2
}

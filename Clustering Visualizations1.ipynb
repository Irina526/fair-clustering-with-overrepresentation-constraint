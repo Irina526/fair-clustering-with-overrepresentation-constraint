{
 "cells": [
  {
   "cell_type": "code",
   "execution_count": 1,
   "metadata": {},
   "outputs": [
    {
     "ename": "NameError",
     "evalue": "name 'sea' is not defined",
     "output_type": "error",
     "traceback": [
      "\u001b[1;31m---------------------------------------------------------------------------\u001b[0m",
      "\u001b[1;31mNameError\u001b[0m                                 Traceback (most recent call last)",
      "\u001b[1;32m<ipython-input-1-a790277b4bfb>\u001b[0m in \u001b[0;36m<module>\u001b[1;34m\u001b[0m\n\u001b[1;32m----> 1\u001b[1;33m sea.scatterplot(x='x1', y='x2', size = \"facility\", sizes = {0 : 10, 1 : 200}, \n\u001b[0m\u001b[0;32m      2\u001b[0m                 hue='Author', data=temp)\n\u001b[0;32m      3\u001b[0m \u001b[0mplt\u001b[0m\u001b[1;33m.\u001b[0m\u001b[0mlegend\u001b[0m\u001b[1;33m(\u001b[0m\u001b[0mbbox_to_anchor\u001b[0m\u001b[1;33m=\u001b[0m\u001b[1;33m(\u001b[0m\u001b[1;36m1.05\u001b[0m\u001b[1;33m,\u001b[0m \u001b[1;36m1\u001b[0m\u001b[1;33m)\u001b[0m\u001b[1;33m,\u001b[0m \u001b[0mloc\u001b[0m\u001b[1;33m=\u001b[0m\u001b[1;34m'upper left'\u001b[0m\u001b[1;33m,\u001b[0m \u001b[0mborderaxespad\u001b[0m\u001b[1;33m=\u001b[0m\u001b[1;36m0.\u001b[0m\u001b[1;33m)\u001b[0m\u001b[1;33m\u001b[0m\u001b[1;33m\u001b[0m\u001b[0m\n",
      "\u001b[1;31mNameError\u001b[0m: name 'sea' is not defined"
     ]
    }
   ],
   "source": [
    "sea.scatterplot(x='x1', y='x2', size = \"facility\", sizes = {0 : 10, 1 : 200}, \n",
    "                hue='Author', data=temp)\n",
    "plt.legend(bbox_to_anchor=(1.05, 1), loc='upper left', borderaxespad=0.)"
   ]
  },
  {
   "cell_type": "markdown",
   "metadata": {},
   "source": [
    "## Dummy Data"
   ]
  },
  {
   "cell_type": "code",
   "execution_count": 3,
   "metadata": {},
   "outputs": [],
   "source": [
    "%matplotlib inline\n",
    "import matplotlib.pyplot as plt\n",
    "import seaborn as sea # for plot styling\n",
    "import numpy as np\n",
    "import pandas as pd\n",
    "from sklearn.datasets.samples_generator import make_blobs\n",
    "from sklearn.cluster import KMeans"
   ]
  },
  {
   "cell_type": "code",
   "execution_count": 4,
   "metadata": {},
   "outputs": [],
   "source": [
    "import ortools\n",
    "from ortools.linear_solver import pywraplp\n",
    "from ortools.graph import pywrapgraph"
   ]
  },
  {
   "cell_type": "code",
   "execution_count": 5,
   "metadata": {},
   "outputs": [
    {
     "data": {
      "text/plain": [
       "<matplotlib.axes._subplots.AxesSubplot at 0x1d15d92a9e8>"
      ]
     },
     "execution_count": 5,
     "metadata": {},
     "output_type": "execute_result"
    },
    {
     "data": {
      "image/png": "[encoded data removed]",
      "text/plain": [
       "<Figure size 432x288 with 1 Axes>"
      ]
     },
     "metadata": {
      "needs_background": "light"
     },
     "output_type": "display_data"
    }
   ],
   "source": [
    "X, y_true = make_blobs(n_samples=300, centers=4,\n",
    "                       cluster_std=0.60, random_state=0)\n",
    "\n",
    "\n",
    "df = pd.DataFrame()\n",
    "df[\"x1\"] = X[:,0]\n",
    "df[\"x2\"] = X[:,1]\n",
    "df[\"true\"] = y_true\n",
    "\n",
    "\n",
    "\n",
    "sea.scatterplot(x = \"x1\", y = \"x2\", data = df, color = \"black\")\n"
   ]
  },
  {
   "cell_type": "code",
   "execution_count": 6,
   "metadata": {},
   "outputs": [
    {
     "data": {
      "text/html": [
       "<div>\n",
       "<style scoped>\n",
       "    .dataframe tbody tr th:only-of-type {\n",
       "        vertical-align: middle;\n",
       "    }\n",
       "\n",
       "    .dataframe tbody tr th {\n",
       "        vertical-align: top;\n",
       "    }\n",
       "\n",
       "    .dataframe thead th {\n",
       "        text-align: right;\n",
       "    }\n",
       "</style>\n",
       "<table border=\"1\" class=\"dataframe\">\n",
       "  <thead>\n",
       "    <tr style=\"text-align: right;\">\n",
       "      <th></th>\n",
       "      <th>X</th>\n",
       "      <th>Y</th>\n",
       "      <th>Color</th>\n",
       "    </tr>\n",
       "  </thead>\n",
       "  <tbody>\n",
       "    <tr>\n",
       "      <th>0</th>\n",
       "      <td>1.155213</td>\n",
       "      <td>5.099619</td>\n",
       "      <td>0</td>\n",
       "    </tr>\n",
       "    <tr>\n",
       "      <th>1</th>\n",
       "      <td>1.413724</td>\n",
       "      <td>4.381177</td>\n",
       "      <td>0</td>\n",
       "    </tr>\n",
       "    <tr>\n",
       "      <th>2</th>\n",
       "      <td>1.242588</td>\n",
       "      <td>4.503992</td>\n",
       "      <td>0</td>\n",
       "    </tr>\n",
       "    <tr>\n",
       "      <th>3</th>\n",
       "      <td>0.453792</td>\n",
       "      <td>3.956478</td>\n",
       "      <td>1</td>\n",
       "    </tr>\n",
       "    <tr>\n",
       "      <th>4</th>\n",
       "      <td>1.069239</td>\n",
       "      <td>4.530685</td>\n",
       "      <td>1</td>\n",
       "    </tr>\n",
       "  </tbody>\n",
       "</table>\n",
       "</div>"
      ],
      "text/plain": [
       "          X         Y  Color\n",
       "0  1.155213  5.099619      0\n",
       "1  1.413724  4.381177      0\n",
       "2  1.242588  4.503992      0\n",
       "3  0.453792  3.956478      1\n",
       "4  1.069239  4.530685      1"
      ]
     },
     "execution_count": 6,
     "metadata": {},
     "output_type": "execute_result"
    }
   ],
   "source": [
    "clusters = pd.read_csv(\"clusters2.csv\")\n",
    "clusters[\"X\"].astype(float)\n",
    "clusters[\"Y\"].astype(float)\n",
    "clusters.head()"
   ]
  },
  {
   "cell_type": "markdown",
   "metadata": {},
   "source": [
    "## Original Data"
   ]
  },
  {
   "cell_type": "code",
   "execution_count": 7,
   "metadata": {},
   "outputs": [
    {
     "data": {
      "image/png": "[encoded data removed]",
      "text/plain": [
       "<Figure size 432x288 with 1 Axes>"
      ]
     },
     "metadata": {
      "needs_background": "light"
     },
     "output_type": "display_data"
    }
   ],
   "source": [
    "sea.scatterplot(x = \"X\", y = \"Y\", data = clusters, hue = \"Color\", palette = \"viridis\")\n",
    "kmeans = KMeans(n_clusters=4)\n",
    "kmeans.fit(X)\n",
    "y_kmeans = kmeans.predict(X)\n",
    "centers = kmeans.cluster_centers_\n",
    "plt.scatter(centers[:, 0], centers[:, 1], c='red', s=150);"
   ]
  },
  {
   "cell_type": "markdown",
   "metadata": {},
   "source": [
    "## Without regard to color of points"
   ]
  },
  {
   "cell_type": "code",
   "execution_count": 8,
   "metadata": {},
   "outputs": [],
   "source": [
    "kmeans = KMeans(n_clusters=4)\n",
    "kmeans.fit(X)\n",
    "y_kmeans = kmeans.predict(X)"
   ]
  },
  {
   "cell_type": "code",
   "execution_count": 9,
   "metadata": {},
   "outputs": [
    {
     "data": {
      "text/plain": [
       "-212.00599621083524"
      ]
     },
     "execution_count": 9,
     "metadata": {},
     "output_type": "execute_result"
    }
   ],
   "source": [
    "kmeans.score(X)"
   ]
  },
  {
   "cell_type": "code",
   "execution_count": 10,
   "metadata": {},
   "outputs": [
    {
     "data": {
      "image/png": "[encoded data removed]",
      "text/plain": [
       "<Figure size 432x288 with 1 Axes>"
      ]
     },
     "metadata": {
      "needs_background": "light"
     },
     "output_type": "display_data"
    }
   ],
   "source": [
    "sea.scatterplot(x = \"x1\", y = \"x2\", hue = \"true\", data = df, palette = \"viridis\")\n",
    "#plt.scatter(X[:, 0], X[:, 1], c=y_kmeans, s=50, cmap='viridis')\n",
    "centers = kmeans.cluster_centers_\n",
    "plt.scatter(centers[:, 0], centers[:, 1], c='red', s=150);"
   ]
  },
  {
   "cell_type": "markdown",
   "metadata": {},
   "source": [
    "## Running our algo"
   ]
  },
  {
   "cell_type": "code",
   "execution_count": 11,
   "metadata": {},
   "outputs": [],
   "source": [
    "vectors = []\n",
    "for i in range(len(clusters[\"X\"])): \n",
    "    sublist = []\n",
    "    sublist.append(float(clusters[\"X\"][i]))\n",
    "    sublist.append(float(clusters[\"Y\"][i]))\n",
    "    vectors.append(sublist)"
   ]
  },
  {
   "cell_type": "code",
   "execution_count": null,
   "metadata": {},
   "outputs": [],
   "source": []
  },
  {
   "cell_type": "code",
   "execution_count": 12,
   "metadata": {},
   "outputs": [],
   "source": [
    "distances = np.zeros((300,300))\n",
    "from scipy.spatial import distance\n",
    "\n",
    "for i in range(len(vectors)):\n",
    "    a = vectors[i]\n",
    "    for j in range(len(vectors)):\n",
    "        b = vectors[j]\n",
    "        dst = distance.euclidean(a, b)\n",
    "        distances[i,j] = dst"
   ]
  },
  {
   "cell_type": "code",
   "execution_count": 93,
   "metadata": {},
   "outputs": [],
   "source": [
    "C = []\n",
    "colors = clusters[\"Color\"].unique()\n",
    "\n",
    "\n",
    "for i in colors:\n",
    "    df_sub = clusters[clusters[\"Color\"] == i]\n",
    "    C.append(df_sub.index.values)"
   ]
  },
  {
   "cell_type": "code",
   "execution_count": 14,
   "metadata": {},
   "outputs": [],
   "source": [
    "a = 0.25\n",
    "a_1 = np.ceil(1/a)\n",
    "colors = 4\n",
    "k = 25\n",
    "lam = 2\n",
    "n = 300"
   ]
  },
  {
   "cell_type": "code",
   "execution_count": 16,
   "metadata": {},
   "outputs": [],
   "source": [
    "x = []\n",
    "y = []\n",
    "F_small = []"
   ]
  },
  {
   "cell_type": "code",
   "execution_count": 17,
   "metadata": {},
   "outputs": [
    {
     "data": {
      "text/plain": [
       "True"
      ]
     },
     "execution_count": 17,
     "metadata": {},
     "output_type": "execute_result"
    }
   ],
   "source": [
    "solver = pywraplp.Solver('LP',\n",
    "                         pywraplp.Solver.GLOP_LINEAR_PROGRAMMING)\n",
    "\n",
    "objective = solver.Objective()\n",
    "for i in range(n):\n",
    "    x.append([])\n",
    "    y.append(solver.NumVar(0.0, 1.0,'y'))\n",
    "    for j in range(n):\n",
    "        x[i].append(solver.NumVar(0.0, 1.0,'x'))\n",
    "        objective.SetCoefficient(x[i][j], 1)\n",
    "objective.SetMaximization()\n",
    "\n",
    "constraint = []\n",
    "for j in range(n):\n",
    "    constraint.append(solver.Constraint(1, 1))\n",
    "    for i in range(n):\n",
    "        constraint[j].SetCoefficient(x[i][j],1)\n",
    "\n",
    "for i in range(n):\n",
    "    for j in range(n):\n",
    "        constraint.append(solver.Constraint(-solver.infinity(), 0))\n",
    "        constraint[-1].SetCoefficient(x[i][j],1)\n",
    "        constraint[-1].SetCoefficient(y[i],-1)\n",
    "\n",
    "for i in range(n):\n",
    "    constraint.append(solver.Constraint(-solver.infinity(), 0))\n",
    "    constraint[-1].SetCoefficient(x[i][i],-1)\n",
    "    constraint[-1].SetCoefficient(y[i],1)\n",
    "\n",
    "for i in range(colors):\n",
    "    constraint.append(solver.Constraint(-solver.infinity(), 0))\n",
    "    for j in range(n):\n",
    "        constraint[-1].SetCoefficient(x[i][j],-a)\n",
    "    if j in C[i]:\n",
    "        constraint[-1].SetCoefficient(x[i][j],1-a)\n",
    "\n",
    "for i in range(n):\n",
    "    constraint.append(solver.Constraint(0, solver.infinity()))\n",
    "    for j in range(n):\n",
    "        constraint[-1].SetCoefficient(x[i][j],1)\n",
    "        constraint[-1].SetCoefficient(y[i],-a_1)\n",
    "\n",
    "constraint.append(solver.Constraint(0, k))\n",
    "for i in range(n):\n",
    "    constraint[-1].SetCoefficient(y[i],1)\n",
    "\n",
    "for i in range(n):\n",
    "    for j in range(n):\n",
    "        if distances[i,j] > lam:\n",
    "            constraint.append(solver.Constraint(0, 0))\n",
    "            constraint[-1].SetCoefficient(x[i][j],1)\n",
    "\n",
    "status = solver.Solve()\n",
    "status == solver.OPTIMAL"
   ]
  },
  {
   "cell_type": "code",
   "execution_count": 18,
   "metadata": {},
   "outputs": [],
   "source": [
    "X_sol = np.zeros((n,n))\n",
    "Y_sol = []\n",
    "for i in range(n): \n",
    "    Y_sol.append(y[i].solution_value())\n",
    "    for j in range(n):\n",
    "        X_sol[i,j] = x[i][j].solution_value()"
   ]
  },
  {
   "cell_type": "code",
   "execution_count": 19,
   "metadata": {},
   "outputs": [
    {
     "name": "stdout",
     "output_type": "stream",
     "text": [
      "300.0 18.0\n"
     ]
    }
   ],
   "source": [
    "z = 0\n",
    "v = 0\n",
    "for i in range(n):\n",
    "    z += Y_sol[i]\n",
    "    for j in range(n):\n",
    "        v+= X_sol[i,j]\n",
    "print(v,z)"
   ]
  },
  {
   "cell_type": "code",
   "execution_count": 20,
   "metadata": {},
   "outputs": [],
   "source": [
    "F = []\n",
    "for i in range(n):\n",
    "    if Y_sol[i]>0:\n",
    "        F.append(i)"
   ]
  },
  {
   "cell_type": "code",
   "execution_count": 21,
   "metadata": {},
   "outputs": [],
   "source": [
    "def greedy_lambda(F, F_distances, lamb):\n",
    "    removed = []\n",
    "    Fcopy1 = F.copy()\n",
    "    for i in F:\n",
    "        if i not in removed:\n",
    "            for j in F:\n",
    "                if j not in removed:\n",
    "                    if (i == j):\n",
    "                        pass\n",
    "                    elif (F_distances[i,j] < 2*lamb):\n",
    "                        #print(F_distances[i,j])\n",
    "                        Fcopy1.remove(j)\n",
    "                        removed.append(j)\n",
    "    return Fcopy1"
   ]
  },
  {
   "cell_type": "code",
   "execution_count": 22,
   "metadata": {},
   "outputs": [],
   "source": [
    "dist = np.ones((n,n))*100000\n",
    "for i in F:\n",
    "    for j in F:\n",
    "        if i != j:\n",
    "            dist[i,j] = distances[i,j]"
   ]
  },
  {
   "cell_type": "code",
   "execution_count": 23,
   "metadata": {},
   "outputs": [
    {
     "data": {
      "text/plain": [
       "[6,\n",
       " 12,\n",
       " 17,\n",
       " 25,\n",
       " 35,\n",
       " 51,\n",
       " 72,\n",
       " 104,\n",
       " 105,\n",
       " 106,\n",
       " 152,\n",
       " 159,\n",
       " 214,\n",
       " 215,\n",
       " 289,\n",
       " 297,\n",
       " 298,\n",
       " 299]"
      ]
     },
     "execution_count": 23,
     "metadata": {},
     "output_type": "execute_result"
    }
   ],
   "source": [
    "F"
   ]
  },
  {
   "cell_type": "code",
   "execution_count": 24,
   "metadata": {},
   "outputs": [],
   "source": [
    "F_prime = greedy_lambda(F,distances,3)"
   ]
  },
  {
   "cell_type": "code",
   "execution_count": 25,
   "metadata": {},
   "outputs": [],
   "source": [
    "F_prime = F"
   ]
  },
  {
   "cell_type": "code",
   "execution_count": 26,
   "metadata": {},
   "outputs": [
    {
     "data": {
      "text/plain": [
       "[6,\n",
       " 12,\n",
       " 17,\n",
       " 25,\n",
       " 35,\n",
       " 51,\n",
       " 72,\n",
       " 104,\n",
       " 105,\n",
       " 106,\n",
       " 152,\n",
       " 159,\n",
       " 214,\n",
       " 215,\n",
       " 289,\n",
       " 297,\n",
       " 298,\n",
       " 299]"
      ]
     },
     "execution_count": 26,
     "metadata": {},
     "output_type": "execute_result"
    }
   ],
   "source": [
    "F_prime"
   ]
  },
  {
   "cell_type": "code",
   "execution_count": 27,
   "metadata": {},
   "outputs": [],
   "source": [
    "dist1 = np.ones((n,n))*100000\n",
    "for i in F:\n",
    "    for j in F_prime:\n",
    "        if i != j:\n",
    "            dist1[i,j] = distances[i,j]"
   ]
  },
  {
   "cell_type": "code",
   "execution_count": 28,
   "metadata": {},
   "outputs": [],
   "source": [
    "d = {}\n",
    "\n",
    "for f in F:\n",
    "    if f in F_prime: \n",
    "        if f in d:\n",
    "            d[f].append(f)\n",
    "        else:\n",
    "            d[f] = []\n",
    "            d[f].append(f)\n",
    "    else:\n",
    "        seen = 0\n",
    "        for i in F_prime:\n",
    "            if seen == 0 and dist1[f,i] == min(dist1[f]):\n",
    "            #if dist1[f,i] < 20:\n",
    "                if i in d:\n",
    "                    d[i].append(f)\n",
    "                else:\n",
    "                    d[i] = []\n",
    "                    d[i].append(f)\n",
    "                seen = 1\n"
   ]
  },
  {
   "cell_type": "code",
   "execution_count": 29,
   "metadata": {},
   "outputs": [
    {
     "data": {
      "text/plain": [
       "{6: [6],\n",
       " 12: [12],\n",
       " 17: [17],\n",
       " 25: [25],\n",
       " 35: [35],\n",
       " 51: [51],\n",
       " 72: [72],\n",
       " 104: [104],\n",
       " 105: [105],\n",
       " 106: [106],\n",
       " 152: [152],\n",
       " 159: [159],\n",
       " 214: [214],\n",
       " 215: [215],\n",
       " 289: [289],\n",
       " 297: [297],\n",
       " 298: [298],\n",
       " 299: [299]}"
      ]
     },
     "execution_count": 29,
     "metadata": {},
     "output_type": "execute_result"
    }
   ],
   "source": [
    "d"
   ]
  },
  {
   "cell_type": "code",
   "execution_count": 30,
   "metadata": {},
   "outputs": [
    {
     "data": {
      "text/plain": [
       "300.0"
      ]
     },
     "execution_count": 30,
     "metadata": {},
     "output_type": "execute_result"
    }
   ],
   "source": [
    "seen = set()\n",
    "total = 0\n",
    "x_new = np.zeros((n,n))\n",
    "for j in range(n):\n",
    "    for i in F_prime:\n",
    "        for element in d[i]:\n",
    "            seen.add(element)\n",
    "            x_new[i,j] += X_sol[element,j]\n",
    "            total += X_sol[element,j]\n",
    "total"
   ]
  },
  {
   "cell_type": "code",
   "execution_count": 31,
   "metadata": {},
   "outputs": [],
   "source": [
    "dict_enum = {}\n",
    "num = 300\n",
    "for i in F_prime:\n",
    "    for c in np.arange(len(C)):\n",
    "        dict_enum[(i,c)] = num\n",
    "        num += 1\n",
    "\n",
    "ind = len(F_prime)* 4 + 300\n",
    "dict_enum['s'] = ind\n",
    "dict_enum['t'] = ind+1"
   ]
  },
  {
   "cell_type": "code",
   "execution_count": 32,
   "metadata": {},
   "outputs": [],
   "source": [
    "start_nodes = []\n",
    "end_nodes = []\n",
    "capacity = []\n",
    "\n",
    "for j in range(n):\n",
    "    start_nodes.append(int(ind))\n",
    "    end_nodes.append(int(j))\n",
    "    capacity.append(int(1))\n",
    "\n",
    "arcindex = n\n",
    "dict_arcs = {}\n",
    "\n",
    "for color in range(len(C)):\n",
    "    for index in C[color]:\n",
    "        for i in F_prime:\n",
    "            if x_new[i,index] > 0:\n",
    "                start_nodes.append(int(index))\n",
    "                dictind = dict_enum[(i,color)]\n",
    "                end_nodes.append(int(dictind))\n",
    "                capacity.append(int(1))\n",
    "                dict_arcs[arcindex] = (index,(i,color))\n",
    "                arcindex += 1\n",
    "                \n",
    "for i in F_prime:\n",
    "    for color in range(len(C)):\n",
    "        val = 0\n",
    "        for index in C[color]:\n",
    "            val += x_new[i,index]\n",
    "        val = np.ceil(val)\n",
    "        dictind = dict_enum[(i,color)]\n",
    "        start_nodes.append(int(dictind))\n",
    "        end_nodes.append(int(i+30000))\n",
    "        capacity.append(int(val))\n",
    "\n",
    "for i in F_prime:\n",
    "    val = 0\n",
    "    for j in range(n):\n",
    "        val += x_new[i,j]\n",
    "    val = np.ceil(val)\n",
    "    start_nodes.append(int(i+30000))\n",
    "    end_nodes.append(int(ind+1))\n",
    "    capacity.append(int(val))\n",
    "\n",
    "\n",
    "max_flow = pywrapgraph.SimpleMaxFlow()\n",
    "for index in range(0, len(start_nodes)):\n",
    "    max_flow.AddArcWithCapacity(start_nodes[index], end_nodes[index], capacity[index])\n",
    "\n",
    "    \n",
    "new_x1 = np.zeros((n,n))\n",
    "if max_flow.Solve(ind, ind+1) == max_flow.OPTIMAL:\n",
    "    for index in np.arange(n,arcindex):\n",
    "        if max_flow.Flow(int(index)) > 0:\n",
    "            j = dict_arcs[index][0]\n",
    "            i = dict_arcs[index][1][0]\n",
    "            col = dict_arcs[index][1][1]\n",
    "            new_x1[i,j] = 1"
   ]
  },
  {
   "cell_type": "code",
   "execution_count": 33,
   "metadata": {},
   "outputs": [
    {
     "data": {
      "text/plain": [
       "300.0"
      ]
     },
     "execution_count": 33,
     "metadata": {},
     "output_type": "execute_result"
    }
   ],
   "source": [
    "eeee = 0\n",
    "suma = {}\n",
    "for i in F_prime:\n",
    "    suma[i] = 0\n",
    "    for j in range(n):\n",
    "        suma[i]+= new_x1[i,j]\n",
    "suma\n",
    "sum(suma.values())"
   ]
  },
  {
   "cell_type": "code",
   "execution_count": 34,
   "metadata": {},
   "outputs": [],
   "source": [
    "centroids = F_prime"
   ]
  },
  {
   "cell_type": "code",
   "execution_count": 35,
   "metadata": {},
   "outputs": [],
   "source": [
    "listforc = {}\n",
    "seen = []\n",
    "for i in range(n):\n",
    "    if sum(new_x1[i]) > 0:\n",
    "        listforc[i] = [i]\n",
    "        for j in range(n):\n",
    "            if new_x1[i,j] > 0:\n",
    "                listforc[i].append(j)\n",
    "                seen.append(j)\n",
    "#listforc"
   ]
  },
  {
   "cell_type": "code",
   "execution_count": 36,
   "metadata": {},
   "outputs": [
    {
     "data": {
      "text/plain": [
       "{6: [6, 6, 31, 36, 37, 39, 45, 47, 63, 69],\n",
       " 12: [12, 12, 14, 23, 50, 53, 56],\n",
       " 17: [17, 3, 17, 18, 21, 32, 67, 71, 73],\n",
       " 25: [25, 0, 2, 8, 25, 40, 48, 49, 54, 57, 59, 60, 64, 66, 68, 74, 76],\n",
       " 35: [35, 4, 5, 7, 9, 11, 34, 35, 44, 223],\n",
       " 51: [51, 10, 13, 15, 16, 19, 24, 26, 27, 28, 29, 51, 52, 178],\n",
       " 72: [72, 1, 20, 22, 33, 38, 41, 42, 46, 55, 58, 62, 65, 70, 72, 87],\n",
       " 104: [104,\n",
       "  82,\n",
       "  89,\n",
       "  92,\n",
       "  98,\n",
       "  100,\n",
       "  101,\n",
       "  104,\n",
       "  112,\n",
       "  113,\n",
       "  116,\n",
       "  126,\n",
       "  130,\n",
       "  132,\n",
       "  133,\n",
       "  136,\n",
       "  139,\n",
       "  140,\n",
       "  141,\n",
       "  142,\n",
       "  143,\n",
       "  144,\n",
       "  148,\n",
       "  149],\n",
       " 105: [105,\n",
       "  81,\n",
       "  85,\n",
       "  86,\n",
       "  91,\n",
       "  93,\n",
       "  94,\n",
       "  95,\n",
       "  96,\n",
       "  97,\n",
       "  99,\n",
       "  102,\n",
       "  103,\n",
       "  105,\n",
       "  107,\n",
       "  108,\n",
       "  109,\n",
       "  110,\n",
       "  111,\n",
       "  114,\n",
       "  115,\n",
       "  117,\n",
       "  118,\n",
       "  119,\n",
       "  120,\n",
       "  121,\n",
       "  122,\n",
       "  123,\n",
       "  125,\n",
       "  127,\n",
       "  128,\n",
       "  129,\n",
       "  134,\n",
       "  135,\n",
       "  137,\n",
       "  145,\n",
       "  147],\n",
       " 106: [106, 75, 77, 78, 79, 80, 83, 84, 88, 90, 106, 124, 131, 138, 146],\n",
       " 152: [152,\n",
       "  43,\n",
       "  61,\n",
       "  152,\n",
       "  160,\n",
       "  165,\n",
       "  166,\n",
       "  168,\n",
       "  172,\n",
       "  173,\n",
       "  179,\n",
       "  180,\n",
       "  181,\n",
       "  182,\n",
       "  183,\n",
       "  185,\n",
       "  187,\n",
       "  190,\n",
       "  196],\n",
       " 159: [159, 159, 177, 192, 193, 195, 199, 221],\n",
       " 214: [214,\n",
       "  157,\n",
       "  158,\n",
       "  175,\n",
       "  176,\n",
       "  184,\n",
       "  186,\n",
       "  188,\n",
       "  189,\n",
       "  191,\n",
       "  194,\n",
       "  197,\n",
       "  198,\n",
       "  200,\n",
       "  201,\n",
       "  202,\n",
       "  203,\n",
       "  204,\n",
       "  205,\n",
       "  206,\n",
       "  207,\n",
       "  208,\n",
       "  209,\n",
       "  210,\n",
       "  211,\n",
       "  212,\n",
       "  213,\n",
       "  214,\n",
       "  216,\n",
       "  217,\n",
       "  218,\n",
       "  219,\n",
       "  220,\n",
       "  222,\n",
       "  224],\n",
       " 215: [215,\n",
       "  30,\n",
       "  150,\n",
       "  151,\n",
       "  153,\n",
       "  154,\n",
       "  155,\n",
       "  156,\n",
       "  161,\n",
       "  162,\n",
       "  163,\n",
       "  164,\n",
       "  167,\n",
       "  169,\n",
       "  170,\n",
       "  171,\n",
       "  174,\n",
       "  215],\n",
       " 289: [289, 233, 255, 279, 281, 284, 289, 290],\n",
       " 297: [297,\n",
       "  226,\n",
       "  230,\n",
       "  232,\n",
       "  236,\n",
       "  240,\n",
       "  244,\n",
       "  256,\n",
       "  258,\n",
       "  262,\n",
       "  266,\n",
       "  269,\n",
       "  274,\n",
       "  278,\n",
       "  292,\n",
       "  293,\n",
       "  296,\n",
       "  297],\n",
       " 298: [298,\n",
       "  225,\n",
       "  229,\n",
       "  231,\n",
       "  234,\n",
       "  235,\n",
       "  237,\n",
       "  242,\n",
       "  243,\n",
       "  245,\n",
       "  246,\n",
       "  250,\n",
       "  251,\n",
       "  253,\n",
       "  257,\n",
       "  261,\n",
       "  263,\n",
       "  265,\n",
       "  268,\n",
       "  270,\n",
       "  273,\n",
       "  275,\n",
       "  276,\n",
       "  282,\n",
       "  286,\n",
       "  287,\n",
       "  294,\n",
       "  298],\n",
       " 299: [299,\n",
       "  227,\n",
       "  228,\n",
       "  238,\n",
       "  239,\n",
       "  241,\n",
       "  247,\n",
       "  248,\n",
       "  249,\n",
       "  252,\n",
       "  254,\n",
       "  259,\n",
       "  260,\n",
       "  264,\n",
       "  267,\n",
       "  271,\n",
       "  272,\n",
       "  277,\n",
       "  280,\n",
       "  283,\n",
       "  285,\n",
       "  288,\n",
       "  291,\n",
       "  295,\n",
       "  299]}"
      ]
     },
     "execution_count": 36,
     "metadata": {},
     "output_type": "execute_result"
    }
   ],
   "source": [
    "listforc"
   ]
  },
  {
   "cell_type": "code",
   "execution_count": 37,
   "metadata": {},
   "outputs": [
    {
     "data": {
      "text/plain": [
       "1.9985488707375787"
      ]
     },
     "execution_count": 37,
     "metadata": {},
     "output_type": "execute_result"
    }
   ],
   "source": [
    "dists = []\n",
    "for i in listforc:\n",
    "    for j in listforc[i]:\n",
    "        dists.append(distances[i,j])\n",
    "max(dists)\n",
    "#for all distances, what was the maximum distance"
   ]
  },
  {
   "cell_type": "code",
   "execution_count": 38,
   "metadata": {},
   "outputs": [],
   "source": [
    "Fassign = {}\n",
    "\n",
    "for i in listforc:\n",
    "    Fassign[i] = {}\n",
    "    for index in listforc[i]:\n",
    "        for color in range(len(C)):\n",
    "            if index in C[color]:\n",
    "                if color in Fassign[i]:\n",
    "                    Fassign[i][color] += 1\n",
    "                else:\n",
    "                    Fassign[i][color] = 1"
   ]
  },
  {
   "cell_type": "code",
   "execution_count": 39,
   "metadata": {},
   "outputs": [],
   "source": [
    "##testing additive 2 violation"
   ]
  },
  {
   "cell_type": "code",
   "execution_count": 40,
   "metadata": {},
   "outputs": [],
   "source": [
    "for i in listforc:\n",
    "    for color in range(len(C)):\n",
    "        if color in Fassign[i]:\n",
    "            Fassign[i][color] = (Fassign[i][color] -2 )/ len(listforc[i])"
   ]
  },
  {
   "cell_type": "code",
   "execution_count": 41,
   "metadata": {},
   "outputs": [
    {
     "name": "stdout",
     "output_type": "stream",
     "text": [
      "6 1 0.3\n",
      "17 2 0.3333333333333333\n",
      "25 1 0.29411764705882354\n",
      "35 1 0.4\n",
      "106 1 0.3333333333333333\n",
      "152 0 0.2631578947368421\n",
      "214 2 0.2857142857142857\n",
      "214 1 0.3142857142857143\n",
      "297 3 0.2777777777777778\n",
      "297 1 0.2777777777777778\n",
      "298 3 0.2857142857142857\n"
     ]
    }
   ],
   "source": [
    "for i in Fassign:\n",
    "    for el in Fassign[i]:\n",
    "        if Fassign[i][el] > 0.25:\n",
    "            print(i, el,Fassign[i][el])"
   ]
  },
  {
   "cell_type": "code",
   "execution_count": 42,
   "metadata": {},
   "outputs": [
    {
     "data": {
      "text/plain": [
       "{6: {1: 0.3, 2: 0.1, 0: 0.0},\n",
       " 12: {0: 0.14285714285714285, 2: -0.14285714285714285, 1: 0.14285714285714285},\n",
       " 17: {2: 0.3333333333333333, 1: 0.0, 0: 0.0},\n",
       " 25: {3: 0.058823529411764705,\n",
       "  0: 0.11764705882352941,\n",
       "  1: 0.29411764705882354,\n",
       "  2: 0.058823529411764705},\n",
       " 35: {1: 0.4, 0: 0.0, 2: -0.1, 3: -0.1},\n",
       " 51: {1: 0.21428571428571427,\n",
       "  0: 0.14285714285714285,\n",
       "  2: 0.0,\n",
       "  3: 0.07142857142857142},\n",
       " 72: {0: 0.25, 2: 0.25, 3: -0.0625, 1: 0.0625},\n",
       " 104: {2: 0.20833333333333334,\n",
       "  3: 0.041666666666666664,\n",
       "  0: 0.16666666666666666,\n",
       "  1: 0.25},\n",
       " 105: {2: 0.24324324324324326,\n",
       "  1: 0.24324324324324326,\n",
       "  3: 0.24324324324324326,\n",
       "  0: 0.05405405405405406},\n",
       " 106: {1: 0.3333333333333333, 2: 0.2, 3: 0.0, 0: -0.06666666666666667},\n",
       " 152: {2: 0.05263157894736842,\n",
       "  0: 0.2631578947368421,\n",
       "  3: 0.10526315789473684,\n",
       "  1: 0.15789473684210525},\n",
       " 159: {2: 0.0, 0: 0.0, 1: 0.125, 3: -0.125},\n",
       " 214: {2: 0.2857142857142857,\n",
       "  0: 0.17142857142857143,\n",
       "  1: 0.3142857142857143,\n",
       "  3: 0.0},\n",
       " 215: {1: 0.0,\n",
       "  3: 0.2222222222222222,\n",
       "  2: 0.2222222222222222,\n",
       "  0: 0.1111111111111111},\n",
       " 289: {3: 0.25, 1: 0.0, 0: 0.0},\n",
       " 297: {3: 0.2777777777777778,\n",
       "  1: 0.2777777777777778,\n",
       "  2: 0.05555555555555555,\n",
       "  0: -0.05555555555555555},\n",
       " 298: {3: 0.2857142857142857,\n",
       "  1: 0.17857142857142858,\n",
       "  2: 0.14285714285714285,\n",
       "  0: 0.10714285714285714},\n",
       " 299: {3: 0.2, 1: 0.2, 2: 0.12, 0: 0.16}}"
      ]
     },
     "execution_count": 42,
     "metadata": {},
     "output_type": "execute_result"
    }
   ],
   "source": [
    "Fassign"
   ]
  },
  {
   "cell_type": "code",
   "execution_count": null,
   "metadata": {},
   "outputs": [],
   "source": []
  },
  {
   "cell_type": "code",
   "execution_count": 43,
   "metadata": {},
   "outputs": [],
   "source": [
    "Fassign2 = {}\n",
    "\n",
    "for i in listforc:\n",
    "    Fassign2[i] = {}\n",
    "    for index in listforc[i]:\n",
    "        for color in range(len(C)):\n",
    "            if index in C[color]:\n",
    "                if color in Fassign2[i]:\n",
    "                    Fassign2[i][color] += 1\n",
    "                else:\n",
    "                    Fassign2[i][color] = 1\n",
    "\n",
    "for i in listforc:\n",
    "    for color in range(len(C)):\n",
    "        if color in Fassign2[i]:\n",
    "            Fassign2[i][color] = (Fassign2[i][color])/ len(listforc[i])"
   ]
  },
  {
   "cell_type": "code",
   "execution_count": 44,
   "metadata": {},
   "outputs": [
    {
     "name": "stdout",
     "output_type": "stream",
     "text": [
      "6 1 0.5\n",
      "6 2 0.3\n",
      "12 0 0.42857142857142855\n",
      "12 1 0.42857142857142855\n",
      "17 2 0.5555555555555556\n",
      "25 1 0.4117647058823529\n",
      "35 1 0.6\n",
      "51 1 0.35714285714285715\n",
      "51 0 0.2857142857142857\n",
      "72 0 0.375\n",
      "72 2 0.375\n",
      "104 2 0.2916666666666667\n",
      "104 1 0.3333333333333333\n",
      "105 2 0.2972972972972973\n",
      "105 1 0.2972972972972973\n",
      "105 3 0.2972972972972973\n",
      "106 1 0.4666666666666667\n",
      "106 2 0.3333333333333333\n",
      "152 0 0.3684210526315789\n",
      "152 1 0.2631578947368421\n",
      "159 1 0.375\n",
      "214 2 0.34285714285714286\n",
      "214 1 0.37142857142857144\n",
      "215 3 0.3333333333333333\n",
      "215 2 0.3333333333333333\n",
      "289 3 0.5\n",
      "297 3 0.3888888888888889\n",
      "297 1 0.3888888888888889\n",
      "298 3 0.35714285714285715\n",
      "299 3 0.28\n",
      "299 1 0.28\n"
     ]
    }
   ],
   "source": [
    "for i in Fassign2:\n",
    "    for el in Fassign2[i]:\n",
    "        if Fassign2[i][el] > 0.25:\n",
    "            print(i, el,Fassign2[i][el])"
   ]
  },
  {
   "cell_type": "code",
   "execution_count": 45,
   "metadata": {},
   "outputs": [
    {
     "data": {
      "text/plain": [
       "{6: {1: 0.5, 2: 0.3, 0: 0.2},\n",
       " 12: {0: 0.42857142857142855, 2: 0.14285714285714285, 1: 0.42857142857142855},\n",
       " 17: {2: 0.5555555555555556, 1: 0.2222222222222222, 0: 0.2222222222222222},\n",
       " 25: {3: 0.17647058823529413,\n",
       "  0: 0.23529411764705882,\n",
       "  1: 0.4117647058823529,\n",
       "  2: 0.17647058823529413},\n",
       " 35: {1: 0.6, 0: 0.2, 2: 0.1, 3: 0.1},\n",
       " 51: {1: 0.35714285714285715,\n",
       "  0: 0.2857142857142857,\n",
       "  2: 0.14285714285714285,\n",
       "  3: 0.21428571428571427},\n",
       " 72: {0: 0.375, 2: 0.375, 3: 0.0625, 1: 0.1875},\n",
       " 104: {2: 0.2916666666666667, 3: 0.125, 0: 0.25, 1: 0.3333333333333333},\n",
       " 105: {2: 0.2972972972972973,\n",
       "  1: 0.2972972972972973,\n",
       "  3: 0.2972972972972973,\n",
       "  0: 0.10810810810810811},\n",
       " 106: {1: 0.4666666666666667,\n",
       "  2: 0.3333333333333333,\n",
       "  3: 0.13333333333333333,\n",
       "  0: 0.06666666666666667},\n",
       " 152: {2: 0.15789473684210525,\n",
       "  0: 0.3684210526315789,\n",
       "  3: 0.21052631578947367,\n",
       "  1: 0.2631578947368421},\n",
       " 159: {2: 0.25, 0: 0.25, 1: 0.375, 3: 0.125},\n",
       " 214: {2: 0.34285714285714286,\n",
       "  0: 0.22857142857142856,\n",
       "  1: 0.37142857142857144,\n",
       "  3: 0.05714285714285714},\n",
       " 215: {1: 0.1111111111111111,\n",
       "  3: 0.3333333333333333,\n",
       "  2: 0.3333333333333333,\n",
       "  0: 0.2222222222222222},\n",
       " 289: {3: 0.5, 1: 0.25, 0: 0.25},\n",
       " 297: {3: 0.3888888888888889,\n",
       "  1: 0.3888888888888889,\n",
       "  2: 0.16666666666666666,\n",
       "  0: 0.05555555555555555},\n",
       " 298: {3: 0.35714285714285715,\n",
       "  1: 0.25,\n",
       "  2: 0.21428571428571427,\n",
       "  0: 0.17857142857142858},\n",
       " 299: {3: 0.28, 1: 0.28, 2: 0.2, 0: 0.24}}"
      ]
     },
     "execution_count": 45,
     "metadata": {},
     "output_type": "execute_result"
    }
   ],
   "source": [
    "Fassign2"
   ]
  },
  {
   "cell_type": "code",
   "execution_count": null,
   "metadata": {},
   "outputs": [],
   "source": []
  },
  {
   "cell_type": "code",
   "execution_count": null,
   "metadata": {},
   "outputs": [],
   "source": []
  },
  {
   "cell_type": "code",
   "execution_count": null,
   "metadata": {},
   "outputs": [],
   "source": []
  },
  {
   "cell_type": "code",
   "execution_count": null,
   "metadata": {},
   "outputs": [],
   "source": [
    "cluster_centers = list(Fassign.keys())\n",
    "centers = []\n",
    "for i in cluster_centers: \n",
    "    centers.append(vectors[i])"
   ]
  },
  {
   "cell_type": "code",
   "execution_count": null,
   "metadata": {},
   "outputs": [],
   "source": [
    "centers = np.array(centers)"
   ]
  },
  {
   "cell_type": "code",
   "execution_count": null,
   "metadata": {},
   "outputs": [],
   "source": []
  },
  {
   "cell_type": "code",
   "execution_count": null,
   "metadata": {},
   "outputs": [],
   "source": [
    "sea.scatterplot(x = \"X\", y = \"Y\", hue = \"Color\", data = clusters, palette = \"viridis\")\n",
    "plt.scatter(centers[:, 0], centers[:, 1], c='red', s=100);"
   ]
  },
  {
   "cell_type": "code",
   "execution_count": null,
   "metadata": {},
   "outputs": [],
   "source": [
    "centers"
   ]
  },
  {
   "cell_type": "markdown",
   "metadata": {},
   "source": [
    "## K MEDOID"
   ]
  },
  {
   "cell_type": "code",
   "execution_count": 287,
   "metadata": {},
   "outputs": [
    {
     "data": {
      "text/plain": [
       "True"
      ]
     },
     "execution_count": 287,
     "metadata": {},
     "output_type": "execute_result"
    }
   ],
   "source": [
    "x = []\n",
    "y = []\n",
    "a = 0.5\n",
    "a_1 = np.ceil(1/a)\n",
    "colors = 4\n",
    "k = 25\n",
    "#lam = 15\n",
    "n = 300\n",
    "F_small = []\n",
    "\n",
    "\n",
    "solver = pywraplp.Solver('LP',\n",
    "                         pywraplp.Solver.GLOP_LINEAR_PROGRAMMING)\n",
    "\n",
    "objective = solver.Objective()\n",
    "for i in range(n):\n",
    "    x.append([])\n",
    "    y.append(solver.NumVar(0.0, 1.0,'y'))\n",
    "    for j in range(n):\n",
    "        x[i].append(solver.NumVar(0.0, 1.0,'x'))\n",
    "        objective.SetCoefficient(x[i][j], distances[i][j])\n",
    "objective.SetMinimization()\n",
    "\n",
    "constraint = []\n",
    "for j in range(n):\n",
    "    constraint.append(solver.Constraint(1, 1))\n",
    "    for i in range(n):\n",
    "        constraint[j].SetCoefficient(x[i][j],1)\n",
    "\n",
    "for i in range(n):\n",
    "    for j in range(n):\n",
    "        constraint.append(solver.Constraint(-solver.infinity(), 0))\n",
    "        constraint[-1].SetCoefficient(x[i][j],1)\n",
    "        constraint[-1].SetCoefficient(y[i],-1)\n",
    "\n",
    "for i in range(n):\n",
    "    constraint.append(solver.Constraint(-solver.infinity(), 0))\n",
    "    constraint[-1].SetCoefficient(x[i][i],-1)\n",
    "    constraint[-1].SetCoefficient(y[i],1)\n",
    "\n",
    "for i in range(colors):\n",
    "    constraint.append(solver.Constraint(-solver.infinity(), 0))\n",
    "    for j in range(n):\n",
    "        constraint[-1].SetCoefficient(x[i][j],-a)\n",
    "    if j in C[i]:\n",
    "        constraint[-1].SetCoefficient(x[i][j],1-a)\n",
    "\n",
    "for i in range(n):\n",
    "    constraint.append(solver.Constraint(0, solver.infinity()))\n",
    "    for j in range(n):\n",
    "        constraint[-1].SetCoefficient(x[i][j],1)\n",
    "        constraint[-1].SetCoefficient(y[i],-a_1)\n",
    "\n",
    "constraint.append(solver.Constraint(0, k))\n",
    "for i in range(n):\n",
    "    constraint[-1].SetCoefficient(y[i],1)\n",
    "\n",
    "#for i in range(n):\n",
    "#    for j in range(n):\n",
    "#        if distances[i,j] > lam:\n",
    "#            constraint.append(solver.Constraint(0, 0))\n",
    "#            constraint[-1].SetCoefficient(x[i][j],1)\n",
    "\n",
    "status = solver.Solve()\n",
    "status == solver.OPTIMAL"
   ]
  },
  {
   "cell_type": "code",
   "execution_count": 288,
   "metadata": {},
   "outputs": [
    {
     "data": {
      "text/plain": [
       "95.41843343057307"
      ]
     },
     "execution_count": 288,
     "metadata": {},
     "output_type": "execute_result"
    }
   ],
   "source": [
    "solver.Objective().Value()"
   ]
  },
  {
   "cell_type": "code",
   "execution_count": 289,
   "metadata": {},
   "outputs": [],
   "source": [
    "X_sol = np.zeros((n,n))\n",
    "Y_sol = []\n",
    "for i in range(n): \n",
    "    Y_sol.append(y[i].solution_value())\n",
    "    for j in range(n):\n",
    "        X_sol[i,j] = x[i][j].solution_value()"
   ]
  },
  {
   "cell_type": "code",
   "execution_count": 290,
   "metadata": {},
   "outputs": [
    {
     "name": "stdout",
     "output_type": "stream",
     "text": [
      "300.0 24.999999999999996\n"
     ]
    }
   ],
   "source": [
    "z = 0\n",
    "v = 0\n",
    "for i in range(n):\n",
    "    z += Y_sol[i]\n",
    "    for j in range(n):\n",
    "        v+= X_sol[i,j]\n",
    "print(v,z)"
   ]
  },
  {
   "cell_type": "code",
   "execution_count": 291,
   "metadata": {},
   "outputs": [],
   "source": [
    "assign = {}\n",
    "for i in range(n):\n",
    "    if (Y_sol[i]==1):\n",
    "        assign[i] = []\n",
    "        for j in range(n):\n",
    "            if (X_sol[i][j]==1):\n",
    "                assign[i].append(j)"
   ]
  },
  {
   "cell_type": "code",
   "execution_count": 292,
   "metadata": {},
   "outputs": [],
   "source": [
    "max_dist = -1\n",
    "for i in list(assign.keys()):\n",
    "    for j in assign[i]:\n",
    "        if (distances[i][j] > max_dist):\n",
    "            max_dist = distances[i][j]"
   ]
  },
  {
   "cell_type": "code",
   "execution_count": 293,
   "metadata": {},
   "outputs": [
    {
     "data": {
      "text/plain": [
       "0.9647321545506117"
      ]
     },
     "execution_count": 293,
     "metadata": {},
     "output_type": "execute_result"
    }
   ],
   "source": [
    "max_dist"
   ]
  },
  {
   "cell_type": "code",
   "execution_count": 294,
   "metadata": {},
   "outputs": [],
   "source": [
    "R = []\n",
    "for i in F:\n",
    "    if i not in F_prime:\n",
    "        R.append(i)"
   ]
  },
  {
   "cell_type": "code",
   "execution_count": 295,
   "metadata": {},
   "outputs": [
    {
     "name": "stderr",
     "output_type": "stream",
     "text": [
      "C:\\Users\\simran\\Anaconda3\\lib\\site-packages\\ipykernel_launcher.py:9: RuntimeWarning: invalid value encountered in double_scalars\n",
      "  if __name__ == '__main__':\n"
     ]
    }
   ],
   "source": [
    "CA={}\n",
    "max_f = 0\n",
    "for i in R:\n",
    "    CA[i] = 0\n",
    "    W[i]=0\n",
    "    for j in range(n):\n",
    "        CA[i] += X_sol[i,j]*distances[i,j]\n",
    "        W[i] += X_sol[i,j]  \n",
    "    if W[i]/CA[i] > max_f:\n",
    "        max_f = W[i]/CA[i]"
   ]
  },
  {
   "cell_type": "code",
   "execution_count": 296,
   "metadata": {},
   "outputs": [
    {
     "data": {
      "text/plain": [
       "4.187896288228189"
      ]
     },
     "execution_count": 296,
     "metadata": {},
     "output_type": "execute_result"
    }
   ],
   "source": [
    "max_f"
   ]
  },
  {
   "cell_type": "code",
   "execution_count": 297,
   "metadata": {},
   "outputs": [
    {
     "data": {
      "text/plain": [
       "2.550428839530967"
      ]
     },
     "execution_count": 297,
     "metadata": {},
     "output_type": "execute_result"
    }
   ],
   "source": [
    "max_f*2*0.3045"
   ]
  },
  {
   "cell_type": "code",
   "execution_count": 298,
   "metadata": {},
   "outputs": [],
   "source": [
    "F = []\n",
    "for i in range(n):\n",
    "    if Y_sol[i]>0:\n",
    "        F.append(i)"
   ]
  },
  {
   "cell_type": "code",
   "execution_count": 299,
   "metadata": {},
   "outputs": [],
   "source": [
    "def greedy_lambda(F, F_distances, lamb):\n",
    "    removed = []\n",
    "    Fcopy1 = F.copy()\n",
    "    for i in F:\n",
    "        if i not in removed:\n",
    "            for j in F:\n",
    "                if j not in removed:\n",
    "                    if (i == j):\n",
    "                        pass\n",
    "                    elif (F_distances[i,j] < 2*lamb):\n",
    "                        #print(F_distances[i,j])\n",
    "                        Fcopy1.remove(j)\n",
    "                        removed.append(j)\n",
    "    return Fcopy1"
   ]
  },
  {
   "cell_type": "code",
   "execution_count": 300,
   "metadata": {},
   "outputs": [],
   "source": [
    "dist = np.ones((n,n))*100000\n",
    "for i in F:\n",
    "    for j in F:\n",
    "        if i != j:\n",
    "            dist[i,j] = distances[i,j]"
   ]
  },
  {
   "cell_type": "code",
   "execution_count": 303,
   "metadata": {},
   "outputs": [
    {
     "data": {
      "text/plain": [
       "25"
      ]
     },
     "execution_count": 303,
     "metadata": {},
     "output_type": "execute_result"
    }
   ],
   "source": [
    "F_prime = greedy_lambda(F,distances,0.3)\n",
    "len(F_prime)"
   ]
  },
  {
   "cell_type": "code",
   "execution_count": 304,
   "metadata": {},
   "outputs": [
    {
     "data": {
      "text/plain": [
       "101.2014699059487"
      ]
     },
     "execution_count": 304,
     "metadata": {},
     "output_type": "execute_result"
    }
   ],
   "source": [
    "F_prime\n",
    "#cost of assigning each point to its closest of the 25 \n",
    "\n",
    "costs = []\n",
    "for i in range(n): \n",
    "    d = []\n",
    "    for j in F_prime: \n",
    "        d.append(distances[i,j])\n",
    "    costs.append(np.min(d))\n",
    "        \n",
    "np.sum(costs)"
   ]
  },
  {
   "cell_type": "code",
   "execution_count": 251,
   "metadata": {},
   "outputs": [],
   "source": [
    "dist1 = np.ones((n,n))*100000\n",
    "dist2 = np.zeros((n,n))\n",
    "for i in F:\n",
    "    for j in F_prime:\n",
    "        if i != j:\n",
    "            dist1[i,j] = distances[i,j]\n",
    "for i in F_prime:\n",
    "    for j in F_prime:\n",
    "        if i!= j:\n",
    "            dist2[i,j] = distances[i,j]"
   ]
  },
  {
   "cell_type": "code",
   "execution_count": 218,
   "metadata": {},
   "outputs": [],
   "source": [
    "d = {}\n",
    "\n",
    "for f in F:\n",
    "    if f in F_prime: \n",
    "        if f in d:\n",
    "            d[f].append(f)\n",
    "        else:\n",
    "            d[f] = []\n",
    "            d[f].append(f)\n",
    "    else:\n",
    "        seen = 0\n",
    "        for i in F_prime:\n",
    "            if seen == 0 and dist1[f,i] == min(dist1[f]):\n",
    "            #if dist1[f,i] < 20:\n",
    "                if i in d:\n",
    "                    d[i].append(f)\n",
    "                else:\n",
    "                    d[i] = []\n",
    "                    d[i].append(f)\n",
    "                seen = 1"
   ]
  },
  {
   "cell_type": "code",
   "execution_count": 219,
   "metadata": {},
   "outputs": [
    {
     "data": {
      "text/plain": [
       "300.0"
      ]
     },
     "execution_count": 219,
     "metadata": {},
     "output_type": "execute_result"
    }
   ],
   "source": [
    "seen = set()\n",
    "total = 0\n",
    "x_new = np.zeros((n,n))\n",
    "for j in range(n):\n",
    "    for i in F_prime:\n",
    "        for element in d[i]:\n",
    "            seen.add(element)\n",
    "            x_new[i,j] += X_sol[element,j]\n",
    "            total += X_sol[element,j]\n",
    "total"
   ]
  },
  {
   "cell_type": "code",
   "execution_count": 220,
   "metadata": {},
   "outputs": [],
   "source": [
    "dict_enum = {}\n",
    "num = 300\n",
    "for i in F_prime:\n",
    "    for c in np.arange(len(C)):\n",
    "        dict_enum[(i,c)] = num\n",
    "        num += 1\n",
    "\n",
    "ind = len(F_prime)* 4 + 300\n",
    "dict_enum['s'] = ind\n",
    "dict_enum['t'] = ind+1"
   ]
  },
  {
   "cell_type": "code",
   "execution_count": 221,
   "metadata": {},
   "outputs": [],
   "source": [
    "start_nodes = []\n",
    "end_nodes = []\n",
    "capacity = []\n",
    "\n",
    "for j in range(n):\n",
    "    start_nodes.append(int(ind))\n",
    "    end_nodes.append(int(j))\n",
    "    capacity.append(int(1))\n",
    "\n",
    "arcindex = n\n",
    "dict_arcs = {}\n",
    "\n",
    "for color in range(len(C)):\n",
    "    for index in C[color]:\n",
    "        for i in F_prime:\n",
    "            if x_new[i,index] > 0:\n",
    "                start_nodes.append(int(index))\n",
    "                dictind = dict_enum[(i,color)]\n",
    "                end_nodes.append(int(dictind))\n",
    "                capacity.append(int(1))\n",
    "                dict_arcs[arcindex] = (index,(i,color))\n",
    "                arcindex += 1\n",
    "                \n",
    "for i in F_prime:\n",
    "    for color in range(len(C)):\n",
    "        val = 0\n",
    "        for index in C[color]:\n",
    "            val += x_new[i,index]\n",
    "        val = np.ceil(val)\n",
    "        dictind = dict_enum[(i,color)]\n",
    "        start_nodes.append(int(dictind))\n",
    "        end_nodes.append(int(i+10000))\n",
    "        capacity.append(int(val))\n",
    "\n",
    "for i in F_prime:\n",
    "    val = 0\n",
    "    for j in range(n):\n",
    "        val += x_new[i,j]\n",
    "    val = np.ceil(val)\n",
    "    start_nodes.append(int(i+10000))\n",
    "    end_nodes.append(int(ind+1))\n",
    "    capacity.append(int(val))\n",
    "\n",
    "\n",
    "max_flow = pywrapgraph.SimpleMaxFlow()\n",
    "for index in range(0, len(start_nodes)):\n",
    "    max_flow.AddArcWithCapacity(start_nodes[index], end_nodes[index], capacity[index])\n",
    "\n",
    "    \n",
    "new_x1 = np.zeros((n,n))\n",
    "if max_flow.Solve(ind, ind+1) == max_flow.OPTIMAL:\n",
    "    for index in np.arange(n,arcindex):\n",
    "        if max_flow.Flow(int(index)) > 0:\n",
    "            j = dict_arcs[index][0]\n",
    "            i = dict_arcs[index][1][0]\n",
    "            col = dict_arcs[index][1][1]\n",
    "            new_x1[i,j] = 1"
   ]
  },
  {
   "cell_type": "code",
   "execution_count": 222,
   "metadata": {},
   "outputs": [
    {
     "data": {
      "text/plain": [
       "{4: 15.0,\n",
       " 16: 18.0,\n",
       " 17: 3.0,\n",
       " 51: 15.0,\n",
       " 56: 9.0,\n",
       " 63: 15.0,\n",
       " 80: 12.0,\n",
       " 85: 12.0,\n",
       " 92: 9.0,\n",
       " 103: 24.0,\n",
       " 105: 10.0,\n",
       " 112: 1.0,\n",
       " 127: 7.0,\n",
       " 153: 10.0,\n",
       " 165: 18.0,\n",
       " 172: 23.0,\n",
       " 190: 14.0,\n",
       " 193: 0.0,\n",
       " 209: 10.0,\n",
       " 228: 10.0,\n",
       " 232: 10.0,\n",
       " 233: 11.0,\n",
       " 247: 23.0,\n",
       " 257: 8.0,\n",
       " 285: 13.0}"
      ]
     },
     "execution_count": 222,
     "metadata": {},
     "output_type": "execute_result"
    }
   ],
   "source": [
    "eeee = 0\n",
    "suma = {}\n",
    "for i in F_prime:\n",
    "    suma[i] = 0\n",
    "    for j in range(n):\n",
    "        suma[i]+= new_x1[i,j]\n",
    "suma"
   ]
  },
  {
   "cell_type": "code",
   "execution_count": 223,
   "metadata": {},
   "outputs": [
    {
     "data": {
      "text/plain": [
       "300.0"
      ]
     },
     "execution_count": 223,
     "metadata": {},
     "output_type": "execute_result"
    }
   ],
   "source": [
    "tot = 0\n",
    "for i in range(n):\n",
    "    for j in range(n):\n",
    "        tot += new_x1[i,j]\n",
    "tot"
   ]
  },
  {
   "cell_type": "code",
   "execution_count": 224,
   "metadata": {},
   "outputs": [
    {
     "data": {
      "text/plain": [
       "114.88169400395907"
      ]
     },
     "execution_count": 224,
     "metadata": {},
     "output_type": "execute_result"
    }
   ],
   "source": [
    "listforc = {}\n",
    "seen = []\n",
    "obj_cost = 0\n",
    "for i in range(n):\n",
    "    if sum(new_x1[i]) > 0:\n",
    "        listforc[i] = []\n",
    "        for j in range(n):\n",
    "            if new_x1[i,j] > 0:\n",
    "                listforc[i].append(j)\n",
    "                obj_cost += distances[i,j]\n",
    "                seen.append(j)\n",
    "obj_cost"
   ]
  },
  {
   "cell_type": "code",
   "execution_count": 225,
   "metadata": {},
   "outputs": [
    {
     "name": "stdout",
     "output_type": "stream",
     "text": [
      "9.362436877870177\n"
     ]
    }
   ],
   "source": [
    "maxval = np.max(dist2)\n",
    "print(maxval)"
   ]
  },
  {
   "cell_type": "code",
   "execution_count": 71,
   "metadata": {},
   "outputs": [
    {
     "name": "stdout",
     "output_type": "stream",
     "text": [
      "4.758063433846053\n"
     ]
    }
   ],
   "source": [
    "gamma_h = maxval/2\n",
    "print(gamma_h)"
   ]
  },
  {
   "cell_type": "code",
   "execution_count": null,
   "metadata": {},
   "outputs": [],
   "source": [
    "distances"
   ]
  },
  {
   "cell_type": "code",
   "execution_count": null,
   "metadata": {},
   "outputs": [],
   "source": [
    "F_prime"
   ]
  },
  {
   "cell_type": "code",
   "execution_count": null,
   "metadata": {},
   "outputs": [],
   "source": [
    "#assign every point to its closest center in F_prime\n",
    "\n",
    "f_prime_dict = {i:[] for i in F_prime}\n",
    "point_to_vector = {i:vectors[i] for i in range(len(vectors))}\n",
    "\n",
    "for i in range(len(vectors)): \n",
    "    d_ = []\n",
    "    for j in F_prime:\n",
    "        d_.append(distances[i,j])\n",
    "    ind = np.argmin(d_)\n",
    "    assignment = F_prime[ind]\n",
    "    f_prime_dict[F_prime[ind]].append(i) \n",
    "    \n",
    "    \n",
    "        "
   ]
  },
  {
   "cell_type": "code",
   "execution_count": null,
   "metadata": {},
   "outputs": [],
   "source": [
    "f_prime_dict"
   ]
  },
  {
   "cell_type": "code",
   "execution_count": null,
   "metadata": {},
   "outputs": [],
   "source": [
    "##sum distances"
   ]
  },
  {
   "cell_type": "code",
   "execution_count": null,
   "metadata": {},
   "outputs": [],
   "source": []
  },
  {
   "cell_type": "code",
   "execution_count": null,
   "metadata": {},
   "outputs": [],
   "source": []
  }
 ],
 "metadata": {
  "kernelspec": {
   "display_name": "Python 3",
   "language": "python",
   "name": "python3"
  },
  "language_info": {
   "codemirror_mode": {
    "name": "ipython",
    "version": 3
   },
   "file_extension": ".py",
   "mimetype": "text/x-python",
   "name": "python",
   "nbconvert_exporter": "python",
   "pygments_lexer": "ipython3",
   "version": "3.7.3"
  }
 },
 "nbformat": 4,
 "nbformat_minor": 2
}

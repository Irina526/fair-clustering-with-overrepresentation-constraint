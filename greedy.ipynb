{
  "nbformat": 4,
  "nbformat_minor": 0,
  "metadata": {
    "colab": {
      "name": "greedy.ipynb",
      "provenance": [],
      "collapsed_sections": []
    },
    "kernelspec": {
      "name": "python3",
      "display_name": "Python 3"
    }
  },
  "cells": [
    {
      "cell_type": "code",
      "metadata": {
        "id": "4kBwCPoOqQsG",
        "colab_type": "code",
        "colab": {}
      },
      "source": [
        "import numpy as np\n",
        "import pandas as pd\n",
        "import random\n",
        "from scipy.spatial import distance"
      ],
      "execution_count": 0,
      "outputs": []
    },
    {
      "cell_type": "code",
      "metadata": {
        "id": "Ox6eevensGSl",
        "colab_type": "code",
        "colab": {}
      },
      "source": [
        "def greedy_k_center(data, k):\n",
        "  data_copy = data.copy()\n",
        "  n = len(data.index)\n",
        "  facilities = []\n",
        "  facilities.append(random.randint(0, n-1))\n",
        "  data_copy.drop(facilities[0])\n",
        "  lamb_list = {}\n",
        "  for l in range(1,k):\n",
        "    client_list = {}\n",
        "    for i in range(len(data_copy.index)):\n",
        "      min_dist = float('inf')\n",
        "      for f in facilities:\n",
        "        min_dist = min(min_dist, distance.euclidean(data_copy.loc[i][0],data_copy.loc[f][0]))\n",
        "      client_list[i] = min_dist\n",
        "    new_facility = max(client_list, key = lambda j: client_list[j])\n",
        "    facilities.append(new_facility)\n",
        "    data_copy.drop([new_facility])\n",
        "  for j in range(len(data_copy.index)):\n",
        "    min_dist_lamb = float('inf')\n",
        "    for f in facilities:\n",
        "      min_dist_lamb = min(min_dist_lamb, distance.euclidean(data_copy.loc[j][0],data_copy.loc[f][0]))\n",
        "    lamb_list[j] = min_dist_lamb\n",
        "  lamb = min(lamb_list)\n",
        "  return facilities, lamb\n",
        "\n",
        "    "
      ],
      "execution_count": 0,
      "outputs": []
    },
    {
      "cell_type": "code",
      "metadata": {
        "id": "pGO4Ub5xtV_J",
        "colab_type": "code",
        "colab": {}
      },
      "source": [
        "df = pd.DataFrame()\n",
        "vectors = [np.random.random_sample((10,)) for i in range(100)]\n",
        "df[\"Doc2Vec\"] = vectors\n",
        "authors_l = [\"Shakespeare\", \"Austen\", \"Dickens\", \"Irina\"]\n",
        "authors = [np.random.choice(authors_l) for i in range(100)]\n",
        "df[\"Author\"] = authors"
      ],
      "execution_count": 0,
      "outputs": []
    },
    {
      "cell_type": "code",
      "metadata": {
        "id": "IdiclQjCT8Wl",
        "colab_type": "code",
        "colab": {}
      },
      "source": [
        "import pickle"
      ],
      "execution_count": 0,
      "outputs": []
    },
    {
      "cell_type": "code",
      "metadata": {
        "id": "ZWp4HZThdgZK",
        "colab_type": "code",
        "colab": {}
      },
      "source": [
        "df2 = pd.read_pickle(\"./train.pkl\")"
      ],
      "execution_count": 0,
      "outputs": []
    },
    {
      "cell_type": "code",
      "metadata": {
        "id": "8Wqc1Uvs57G_",
        "colab_type": "code",
        "outputId": "6351b018-d273-4ae2-cc33-8332eaa2d4cd",
        "colab": {
          "base_uri": "https://localhost:8080/",
          "height": 34
        }
      },
      "source": [
        "df2"
      ],
      "execution_count": 0,
      "outputs": [
        {
          "output_type": "execute_result",
          "data": {
            "text/plain": [
              "<function pandas.io.pickle.read_pickle>"
            ]
          },
          "metadata": {
            "tags": []
          },
          "execution_count": 70
        }
      ]
    },
    {
      "cell_type": "code",
      "metadata": {
        "id": "KU-hcqkUvWbn",
        "colab_type": "code",
        "outputId": "1ef2b5fc-d258-45f5-bec6-e499d58524f1",
        "colab": {
          "base_uri": "https://localhost:8080/",
          "height": 34
        }
      },
      "source": [
        "greedy_k_center(df, 15)"
      ],
      "execution_count": 9,
      "outputs": [
        {
          "output_type": "execute_result",
          "data": {
            "text/plain": [
              "([32, 56, 60, 10, 66, 0, 8, 73, 15, 77, 69, 24, 99, 55, 72], 0)"
            ]
          },
          "metadata": {
            "tags": []
          },
          "execution_count": 9
        }
      ]
    },
    {
      "cell_type": "code",
      "metadata": {
        "id": "8fnZ8K5NKguH",
        "colab_type": "code",
        "colab": {}
      },
      "source": [
        "def greedy_k_center2(data, k):\n",
        "    n = len(data.index)\n",
        "    data['facility'] = 0\n",
        "    facilities = []\n",
        "    first = random.randint(0, n-1)\n",
        "    facilities.append(first)\n",
        "    data['facility'][first] = 1\n",
        "    lamb_list = {}\n",
        "    \n",
        "    for l in range(k-1):\n",
        "        client_list = {}\n",
        "        for i in range(len(data.index)):\n",
        "            if data['facility'][i] != 1:    \n",
        "                min_dist = float('inf')\n",
        "                for f in facilities:\n",
        "                    min_dist = min(min_dist, distance.euclidean(data.loc[i]['Vector'], data.loc[f]['Vector']))\n",
        "                client_list[i] = min_dist\n",
        "        new_facility = max(client_list, key = lambda j: client_list[j])\n",
        "        facilities.append(new_facility)\n",
        "        data['facility'][new_facility] = 1\n",
        "    return facilities\n",
        "        "
      ],
      "execution_count": 0,
      "outputs": []
    },
    {
      "cell_type": "code",
      "metadata": {
        "id": "3fhBemPtXacR",
        "colab_type": "code",
        "colab": {}
      },
      "source": [
        ""
      ],
      "execution_count": 0,
      "outputs": []
    },
    {
      "cell_type": "markdown",
      "metadata": {
        "id": "AgPgzszKgSFB",
        "colab_type": "text"
      },
      "source": [
        ""
      ]
    },
    {
      "cell_type": "code",
      "metadata": {
        "id": "rRgDDbtOgScH",
        "colab_type": "code",
        "colab": {}
      },
      "source": [
        "def greedy_lambda(F, F_distances, lamb):\n",
        "    removed = []\n",
        "    Fcopy = F.copy()\n",
        "    Fcopy1 = F.copy()\n",
        "    for i in Fcopy:\n",
        "        if i not in removed:\n",
        "            for j in Fcopy:\n",
        "                if j not in removed:\n",
        "                    if (i == j):\n",
        "                        pass\n",
        "                    elif (F_distances[i,j] > 2*lamb):\n",
        "                        pass\n",
        "                    else:\n",
        "        \n",
        "                        Fcopy1.remove(j)\n",
        "                        removed.append(j)\n",
        "    return removed"
      ],
      "execution_count": 0,
      "outputs": []
    },
    {
      "cell_type": "code",
      "metadata": {
        "id": "NdKbDCmBmol6",
        "colab_type": "code",
        "colab": {}
      },
      "source": [
        "def update_distance(row, new_facility):\n",
        "    new_dist = distance.euclidean(row['Vector'], df.loc[new_facility]['Vector'])\n",
        "    current_dist = row['min_dist']\n",
        "    if (new_dist < current_dist):\n",
        "        row['min_dist'] = new_dist\n",
        "        row['assignment'] = new_facility\n",
        "    return row\n",
        "\n",
        "def max_index(a):\n",
        "    max_val = -1\n",
        "    max_i = -1\n",
        "    for i in range(len(a)):\n",
        "        if (a[i] > max_val):\n",
        "            max_val = a[i]\n",
        "            max_i = i\n",
        "    return max_i\n",
        "        "
      ],
      "execution_count": 0,
      "outputs": []
    },
    {
      "cell_type": "code",
      "metadata": {
        "id": "TlNFQ5sdgS1O",
        "colab_type": "code",
        "colab": {}
      },
      "source": [
        "def greedy_k_center3(data, k):\n",
        "    n = len(data.index)\n",
        "    data['facility'] = 0\n",
        "    data['min_dist'] = float('inf')\n",
        "    data['assignment'] = -1\n",
        "    facilities = []\n",
        "    first = random.randint(0, n-1)\n",
        "    facilities.append(first)\n",
        "    data['facility'][first] = 1\n",
        "    data = data.apply(update_distance, axis = 1, new_facility = first)\n",
        "    for l in range(k-1):\n",
        "        next_f = max_index(data['min_dist'])\n",
        "        facilities.append(next_f)\n",
        "        data['facility'][next_f] = 1\n",
        "        data = data.apply(update_distance, axis=1, new_facility = next_f)\n",
        "    lamb = max(data['min_dist'])\n",
        "    return data, lamb\n",
        "        "
      ],
      "execution_count": 0,
      "outputs": []
    },
    {
      "cell_type": "code",
      "metadata": {
        "id": "V4Sd7sH9mtrl",
        "colab_type": "code",
        "colab": {}
      },
      "source": [
        "output = greedy_k_center2(df, 25)\n",
        "print(\"lambda: \", output[1])\n",
        "output[0].head()"
      ],
      "execution_count": 0,
      "outputs": []
    }
  ]
}
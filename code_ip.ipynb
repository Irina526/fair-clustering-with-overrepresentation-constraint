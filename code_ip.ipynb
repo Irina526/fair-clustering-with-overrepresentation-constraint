{
 "cells": [
  {
   "cell_type": "code",
   "execution_count": 2,
   "metadata": {},
   "outputs": [],
   "source": [
    "import numpy as np\n",
    "import pandas as pd\n",
    "import pickle"
   ]
  },
  {
   "cell_type": "code",
   "execution_count": 77,
   "metadata": {},
   "outputs": [],
   "source": [
    "import ortools\n",
    "from ortools.linear_solver import pywraplp\n",
    "from ortools.graph import pywrapgraph"
   ]
  },
  {
   "cell_type": "code",
   "execution_count": 4,
   "metadata": {},
   "outputs": [],
   "source": [
    "df = pd.read_pickle(\"train.pkl\")\n",
    "vectors = df[\"Vector\"]"
   ]
  },
  {
   "cell_type": "code",
   "execution_count": 5,
   "metadata": {},
   "outputs": [
    {
     "data": {
      "text/html": [
       "<div>\n",
       "<style scoped>\n",
       "    .dataframe tbody tr th:only-of-type {\n",
       "        vertical-align: middle;\n",
       "    }\n",
       "\n",
       "    .dataframe tbody tr th {\n",
       "        vertical-align: top;\n",
       "    }\n",
       "\n",
       "    .dataframe thead th {\n",
       "        text-align: right;\n",
       "    }\n",
       "</style>\n",
       "<table border=\"1\" class=\"dataframe\">\n",
       "  <thead>\n",
       "    <tr style=\"text-align: right;\">\n",
       "      <th></th>\n",
       "      <th>Text</th>\n",
       "      <th>Author</th>\n",
       "      <th>Vector</th>\n",
       "    </tr>\n",
       "  </thead>\n",
       "  <tbody>\n",
       "    <tr>\n",
       "      <th>0</th>\n",
       "      <td>U.S. Senators on Tuesday sharply criticized a ...</td>\n",
       "      <td>AaronPressman</td>\n",
       "      <td>[-0.59266317, 3.8505063, -8.919514, 1.9474734,...</td>\n",
       "    </tr>\n",
       "    <tr>\n",
       "      <th>1</th>\n",
       "      <td>Two members of Congress criticised the Federal...</td>\n",
       "      <td>AaronPressman</td>\n",
       "      <td>[-2.0250783, -0.4225978, -3.5096471, -2.018811...</td>\n",
       "    </tr>\n",
       "    <tr>\n",
       "      <th>2</th>\n",
       "      <td>Commuters stuck in traffic on the Leesburg Pik...</td>\n",
       "      <td>AaronPressman</td>\n",
       "      <td>[5.966192, -1.5661882, -2.1684153, -5.9777327,...</td>\n",
       "    </tr>\n",
       "    <tr>\n",
       "      <th>3</th>\n",
       "      <td>A broad coalition of corporations went to Capi...</td>\n",
       "      <td>AaronPressman</td>\n",
       "      <td>[5.257664, -5.1360354, -4.637482, -3.0475514, ...</td>\n",
       "    </tr>\n",
       "    <tr>\n",
       "      <th>4</th>\n",
       "      <td>On the Internet, where new products come and g...</td>\n",
       "      <td>AaronPressman</td>\n",
       "      <td>[4.779245, -3.3181891, -6.280878, -3.8667245, ...</td>\n",
       "    </tr>\n",
       "    <tr>\n",
       "      <th>...</th>\n",
       "      <td>...</td>\n",
       "      <td>...</td>\n",
       "      <td>...</td>\n",
       "    </tr>\n",
       "    <tr>\n",
       "      <th>2495</th>\n",
       "      <td>China has scored new successes in its fight ag...</td>\n",
       "      <td>WilliamKazer</td>\n",
       "      <td>[-0.20546861, 4.163672, -1.6106012, -3.1293087...</td>\n",
       "    </tr>\n",
       "    <tr>\n",
       "      <th>2496</th>\n",
       "      <td>China has scored new successes in its fight ag...</td>\n",
       "      <td>WilliamKazer</td>\n",
       "      <td>[-0.20965889, 4.847113, -1.7382896, -3.3654442...</td>\n",
       "    </tr>\n",
       "    <tr>\n",
       "      <th>2497</th>\n",
       "      <td>China is on target with plans to to promote 10...</td>\n",
       "      <td>WilliamKazer</td>\n",
       "      <td>[-2.3209264, 3.1882226, 1.1266638, -3.8210783,...</td>\n",
       "    </tr>\n",
       "    <tr>\n",
       "      <th>2498</th>\n",
       "      <td>China may need to adjust the mix of its treasu...</td>\n",
       "      <td>WilliamKazer</td>\n",
       "      <td>[-6.7202153, 7.621765, -3.2023606, -0.9481356,...</td>\n",
       "    </tr>\n",
       "    <tr>\n",
       "      <th>2499</th>\n",
       "      <td>A Chinese ideologue known for his strictly ort...</td>\n",
       "      <td>WilliamKazer</td>\n",
       "      <td>[-1.466847, -3.5699446, -3.708013, -3.5336945,...</td>\n",
       "    </tr>\n",
       "  </tbody>\n",
       "</table>\n",
       "<p>2500 rows × 3 columns</p>\n",
       "</div>"
      ],
      "text/plain": [
       "                                                   Text         Author  \\\n",
       "0     U.S. Senators on Tuesday sharply criticized a ...  AaronPressman   \n",
       "1     Two members of Congress criticised the Federal...  AaronPressman   \n",
       "2     Commuters stuck in traffic on the Leesburg Pik...  AaronPressman   \n",
       "3     A broad coalition of corporations went to Capi...  AaronPressman   \n",
       "4     On the Internet, where new products come and g...  AaronPressman   \n",
       "...                                                 ...            ...   \n",
       "2495  China has scored new successes in its fight ag...   WilliamKazer   \n",
       "2496  China has scored new successes in its fight ag...   WilliamKazer   \n",
       "2497  China is on target with plans to to promote 10...   WilliamKazer   \n",
       "2498  China may need to adjust the mix of its treasu...   WilliamKazer   \n",
       "2499  A Chinese ideologue known for his strictly ort...   WilliamKazer   \n",
       "\n",
       "                                                 Vector  \n",
       "0     [-0.59266317, 3.8505063, -8.919514, 1.9474734,...  \n",
       "1     [-2.0250783, -0.4225978, -3.5096471, -2.018811...  \n",
       "2     [5.966192, -1.5661882, -2.1684153, -5.9777327,...  \n",
       "3     [5.257664, -5.1360354, -4.637482, -3.0475514, ...  \n",
       "4     [4.779245, -3.3181891, -6.280878, -3.8667245, ...  \n",
       "...                                                 ...  \n",
       "2495  [-0.20546861, 4.163672, -1.6106012, -3.1293087...  \n",
       "2496  [-0.20965889, 4.847113, -1.7382896, -3.3654442...  \n",
       "2497  [-2.3209264, 3.1882226, 1.1266638, -3.8210783,...  \n",
       "2498  [-6.7202153, 7.621765, -3.2023606, -0.9481356,...  \n",
       "2499  [-1.466847, -3.5699446, -3.708013, -3.5336945,...  \n",
       "\n",
       "[2500 rows x 3 columns]"
      ]
     },
     "execution_count": 5,
     "metadata": {},
     "output_type": "execute_result"
    }
   ],
   "source": [
    "df"
   ]
  },
  {
   "cell_type": "code",
   "execution_count": 6,
   "metadata": {},
   "outputs": [],
   "source": [
    "import ast \n",
    "\n",
    "distances = np.zeros((2500,2500))\n",
    "from scipy.spatial import distance\n",
    "\n",
    "for i in range(len(vectors)):\n",
    "    a = vectors[i]\n",
    "    for j in range(len(vectors)):\n",
    "        b = vectors[j]\n",
    "        dst = distance.euclidean(a, b)\n",
    "        distances[i,j] = dst"
   ]
  },
  {
   "cell_type": "code",
   "execution_count": 9,
   "metadata": {},
   "outputs": [],
   "source": [
    "#pickle.dump(distances, open(\"distances.pkl\", \"wb\"))\n",
    "distances = pd.read_pickle(\"distances.pkl\")"
   ]
  },
  {
   "cell_type": "code",
   "execution_count": 11,
   "metadata": {},
   "outputs": [],
   "source": [
    "C = []\n",
    "authors = df[\"Author\"].unique()\n",
    "\n",
    "for i in authors:\n",
    "    df_sub = df[df[\"Author\"] == i]\n",
    "    C.append(df_sub.index.values)"
   ]
  },
  {
   "cell_type": "code",
   "execution_count": 33,
   "metadata": {},
   "outputs": [],
   "source": [
    "C;"
   ]
  },
  {
   "cell_type": "code",
   "execution_count": 14,
   "metadata": {},
   "outputs": [],
   "source": [
    "a = 0.5\n",
    "a_1 = np.ceil(1/a)\n",
    "colors = 50\n",
    "k = 25\n",
    "lam = 15\n",
    "n = 2500"
   ]
  },
  {
   "cell_type": "code",
   "execution_count": 7,
   "metadata": {},
   "outputs": [
    {
     "data": {
      "text/plain": [
       "True"
      ]
     },
     "execution_count": 7,
     "metadata": {},
     "output_type": "execute_result"
    }
   ],
   "source": [
    "x = []\n",
    "y = []\n",
    "a = 0.5\n",
    "a_1 = np.ceil(1/a)\n",
    "colors = 50\n",
    "k = 25\n",
    "lam = 15\n",
    "n = 2500\n",
    "F_small = []\n",
    "\n",
    "solver = pywraplp.Solver('LP',\n",
    "                         pywraplp.Solver.GLOP_LINEAR_PROGRAMMING)\n",
    "\n",
    "objective = solver.Objective()\n",
    "for i in range(n):\n",
    "    x.append([])\n",
    "    y.append(solver.NumVar(0.0, 1.0,'y'))\n",
    "    for j in range(n):\n",
    "        x[i].append(solver.NumVar(0.0, 1.0,'x'))\n",
    "        objective.SetCoefficient(x[i][j], 1)\n",
    "objective.SetMaximization()\n",
    "\n",
    "constraint = []\n",
    "for j in range(n):\n",
    "    constraint.append(solver.Constraint(1, 1))\n",
    "    for i in range(n):\n",
    "        constraint[j].SetCoefficient(x[i][j],1)\n",
    "\n",
    "for i in range(n):\n",
    "    for j in range(n):\n",
    "        constraint.append(solver.Constraint(-solver.infinity(), 0))\n",
    "        constraint[-1].SetCoefficient(x[i][j],1)\n",
    "        constraint[-1].SetCoefficient(y[i],-1)\n",
    "\n",
    "for i in range(colors):\n",
    "    constraint.append(solver.Constraint(-solver.infinity(), 0))\n",
    "    for j in range(n):\n",
    "        constraint[-1].SetCoefficient(x[i][j],-a)\n",
    "    if j in C[i]:\n",
    "        constraint[-1].SetCoefficient(x[i][j],1-a)\n",
    "\n",
    "for i in range(n):\n",
    "    constraint.append(solver.Constraint(0, solver.infinity()))\n",
    "    for j in range(n):\n",
    "        constraint[-1].SetCoefficient(x[i][j],1)\n",
    "        constraint[-1].SetCoefficient(y[i],-a_1)\n",
    "\n",
    "constraint.append(solver.Constraint(0, k))\n",
    "for i in range(n):\n",
    "    constraint[-1].SetCoefficient(y[i],1)\n",
    "\n",
    "for i in range(n):\n",
    "    for j in range(n):\n",
    "        if distances[i,j] > lam:\n",
    "            constraint.append(solver.Constraint(0, 0))\n",
    "            constraint[-1].SetCoefficient(x[i][j],1)\n",
    "\n",
    "status = solver.Solve()\n",
    "status == solver.OPTIMAL"
   ]
  },
  {
   "cell_type": "code",
   "execution_count": 9,
   "metadata": {},
   "outputs": [],
   "source": [
    "X_sol = np.zeros((n,n))\n",
    "Y_sol = []\n",
    "for i in range(n): \n",
    "    Y_sol.append(y[i].solution_value())\n",
    "    for j in range(n):\n",
    "        X_sol[i,j] = x[i][j].solution_value()"
   ]
  },
  {
   "cell_type": "code",
   "execution_count": 18,
   "metadata": {},
   "outputs": [],
   "source": [
    "#pickle.dump(X_sol, open(\"X15.pkl\", \"wb\"))\n",
    "#pickle.dump(Y_sol, open(\"Y15.pkl\", \"wb\"))"
   ]
  },
  {
   "cell_type": "code",
   "execution_count": 12,
   "metadata": {},
   "outputs": [],
   "source": [
    "x_sol = pd.read_pickle(\"X15.pkl\")\n",
    "y_sol = pd.read_pickle(\"Y15.pkl\")"
   ]
  },
  {
   "cell_type": "code",
   "execution_count": 15,
   "metadata": {},
   "outputs": [
    {
     "name": "stdout",
     "output_type": "stream",
     "text": [
      "2500.0000000002515 24.999999999999865\n"
     ]
    }
   ],
   "source": [
    "z = 0\n",
    "v = 0\n",
    "for i in range(n):\n",
    "    z += y_sol[i]\n",
    "    for j in range(n):\n",
    "        v+= x_sol[i,j]\n",
    "print(v,z)"
   ]
  },
  {
   "cell_type": "code",
   "execution_count": 18,
   "metadata": {},
   "outputs": [],
   "source": [
    "F = []\n",
    "for i in range(n):\n",
    "    if y_sol[i]>0:\n",
    "        F.append(i)"
   ]
  },
  {
   "cell_type": "code",
   "execution_count": 25,
   "metadata": {},
   "outputs": [],
   "source": [
    "def greedy_lambda(F, F_distances, lamb):\n",
    "    removed = []\n",
    "    Fcopy1 = F.copy()\n",
    "    for i in F:\n",
    "        if i not in removed:\n",
    "            for j in F:\n",
    "                if j not in removed:\n",
    "                    if (i == j):\n",
    "                        pass\n",
    "                    elif (F_distances[i,j] < 2*lamb):\n",
    "                        #print(F_distances[i,j])\n",
    "                        Fcopy1.remove(j)\n",
    "                        removed.append(j)\n",
    "    return Fcopy1"
   ]
  },
  {
   "cell_type": "code",
   "execution_count": 26,
   "metadata": {},
   "outputs": [
    {
     "data": {
      "text/plain": [
       "335"
      ]
     },
     "execution_count": 26,
     "metadata": {},
     "output_type": "execute_result"
    }
   ],
   "source": [
    "len(F)"
   ]
  },
  {
   "cell_type": "code",
   "execution_count": 33,
   "metadata": {},
   "outputs": [],
   "source": [
    "dist = np.ones((n,n))*100000\n",
    "for i in F:\n",
    "    for j in F:\n",
    "        if i != j:\n",
    "            dist[i,j] = distances[i,j]"
   ]
  },
  {
   "cell_type": "code",
   "execution_count": 56,
   "metadata": {},
   "outputs": [],
   "source": [
    "F_prime = set()\n",
    "for i in F:\n",
    "        val = 0\n",
    "        for j in F_prime.copy():\n",
    "            if dist[i,j] < 30:\n",
    "                val = 1\n",
    "        if val ==0:\n",
    "            F_prime.add(i)"
   ]
  },
  {
   "cell_type": "code",
   "execution_count": 58,
   "metadata": {},
   "outputs": [],
   "source": [
    "F_prime = greedy_lambda(F,distances,lam)"
   ]
  },
  {
   "cell_type": "code",
   "execution_count": 59,
   "metadata": {},
   "outputs": [],
   "source": [
    "d = {}\n",
    "for f in F:\n",
    "    if f in F_prime: \n",
    "        d[f] = []\n",
    "        d[f].append(f)\n",
    "    else:\n",
    "        for i in F_prime:\n",
    "            if dist[f,i] < 2*lam:\n",
    "                if i in d:\n",
    "                    d[i].append(f)\n",
    "                else:\n",
    "                    d[i] = []\n",
    "                    d[i].append(f)\n",
    "                break"
   ]
  },
  {
   "cell_type": "code",
   "execution_count": 66,
   "metadata": {},
   "outputs": [],
   "source": [
    "x_new = np.zeros((n,n))\n",
    "for j in np.arange(n):\n",
    "    for i in F_prime:\n",
    "        for element in d[i]:\n",
    "            x_new[i,j] += x_sol[element,j]"
   ]
  },
  {
   "cell_type": "code",
   "execution_count": 70,
   "metadata": {},
   "outputs": [],
   "source": [
    "dict_enum = {}\n",
    "num = 2500\n",
    "for i in F_prime:\n",
    "    for c in np.arange(len(C)):\n",
    "        dict_enum[(i,c)] = num\n",
    "        num += 1\n",
    "\n",
    "ind = len(F_prime)* 50 + 2500\n",
    "dict_enum['s'] = ind\n",
    "dict_enum['t'] = ind+1"
   ]
  },
  {
   "cell_type": "code",
   "execution_count": 78,
   "metadata": {},
   "outputs": [],
   "source": [
    "dict_enum;"
   ]
  },
  {
   "cell_type": "code",
   "execution_count": 103,
   "metadata": {},
   "outputs": [
    {
     "data": {
      "text/plain": [
       "int"
      ]
     },
     "execution_count": 103,
     "metadata": {},
     "output_type": "execute_result"
    }
   ],
   "source": [
    "type(capacity[100])"
   ]
  },
  {
   "cell_type": "code",
   "execution_count": 104,
   "metadata": {},
   "outputs": [
    {
     "ename": "TypeError",
     "evalue": "in method 'SimpleMaxFlow_AddArcWithCapacity', argument 2 of type 'operations_research::NodeIndex'",
     "output_type": "error",
     "traceback": [
      "\u001b[0;31m---------------------------------------------------------------------------\u001b[0m",
      "\u001b[0;31mTypeError\u001b[0m                                 Traceback (most recent call last)",
      "\u001b[0;32m<ipython-input-104-8ac57220d0ca>\u001b[0m in \u001b[0;36m<module>\u001b[0;34m()\u001b[0m\n\u001b[1;32m     43\u001b[0m \u001b[0mmax_flow\u001b[0m \u001b[0;34m=\u001b[0m \u001b[0mpywrapgraph\u001b[0m\u001b[0;34m.\u001b[0m\u001b[0mSimpleMaxFlow\u001b[0m\u001b[0;34m(\u001b[0m\u001b[0;34m)\u001b[0m\u001b[0;34m\u001b[0m\u001b[0m\n\u001b[1;32m     44\u001b[0m \u001b[0;32mfor\u001b[0m \u001b[0mindex\u001b[0m \u001b[0;32min\u001b[0m \u001b[0mrange\u001b[0m\u001b[0;34m(\u001b[0m\u001b[0;36m0\u001b[0m\u001b[0;34m,\u001b[0m \u001b[0mlen\u001b[0m\u001b[0;34m(\u001b[0m\u001b[0mstart_nodes\u001b[0m\u001b[0;34m)\u001b[0m\u001b[0;34m)\u001b[0m\u001b[0;34m:\u001b[0m\u001b[0;34m\u001b[0m\u001b[0m\n\u001b[0;32m---> 45\u001b[0;31m     \u001b[0mmax_flow\u001b[0m\u001b[0;34m.\u001b[0m\u001b[0mAddArcWithCapacity\u001b[0m\u001b[0;34m(\u001b[0m\u001b[0mstart_nodes\u001b[0m\u001b[0;34m[\u001b[0m\u001b[0mindex\u001b[0m\u001b[0;34m]\u001b[0m\u001b[0;34m,\u001b[0m \u001b[0mend_nodes\u001b[0m\u001b[0;34m[\u001b[0m\u001b[0mindex\u001b[0m\u001b[0;34m]\u001b[0m\u001b[0;34m,\u001b[0m \u001b[0mcapacity\u001b[0m\u001b[0;34m[\u001b[0m\u001b[0mindex\u001b[0m\u001b[0;34m]\u001b[0m\u001b[0;34m)\u001b[0m\u001b[0;34m\u001b[0m\u001b[0m\n\u001b[0m\u001b[1;32m     46\u001b[0m \u001b[0;34m\u001b[0m\u001b[0m\n\u001b[1;32m     47\u001b[0m \u001b[0;34m\u001b[0m\u001b[0m\n",
      "\u001b[0;32m~/.local/lib/python3.7/site-packages/ortools/graph/pywrapgraph.py\u001b[0m in \u001b[0;36mAddArcWithCapacity\u001b[0;34m(self, tail, head, capacity)\u001b[0m\n\u001b[1;32m     70\u001b[0m \u001b[0;34m\u001b[0m\u001b[0m\n\u001b[1;32m     71\u001b[0m     \u001b[0;32mdef\u001b[0m \u001b[0mAddArcWithCapacity\u001b[0m\u001b[0;34m(\u001b[0m\u001b[0mself\u001b[0m\u001b[0;34m,\u001b[0m \u001b[0mtail\u001b[0m\u001b[0;34m:\u001b[0m \u001b[0;34m\"operations_research::NodeIndex\"\u001b[0m\u001b[0;34m,\u001b[0m \u001b[0mhead\u001b[0m\u001b[0;34m:\u001b[0m \u001b[0;34m\"operations_research::NodeIndex\"\u001b[0m\u001b[0;34m,\u001b[0m \u001b[0mcapacity\u001b[0m\u001b[0;34m:\u001b[0m \u001b[0;34m\"operations_research::FlowQuantity\"\u001b[0m\u001b[0;34m)\u001b[0m \u001b[0;34m->\u001b[0m \u001b[0;34m\"operations_research::ArcIndex\"\u001b[0m\u001b[0;34m:\u001b[0m\u001b[0;34m\u001b[0m\u001b[0m\n\u001b[0;32m---> 72\u001b[0;31m         \u001b[0;32mreturn\u001b[0m \u001b[0m_pywrapgraph\u001b[0m\u001b[0;34m.\u001b[0m\u001b[0mSimpleMaxFlow_AddArcWithCapacity\u001b[0m\u001b[0;34m(\u001b[0m\u001b[0mself\u001b[0m\u001b[0;34m,\u001b[0m \u001b[0mtail\u001b[0m\u001b[0;34m,\u001b[0m \u001b[0mhead\u001b[0m\u001b[0;34m,\u001b[0m \u001b[0mcapacity\u001b[0m\u001b[0;34m)\u001b[0m\u001b[0;34m\u001b[0m\u001b[0m\n\u001b[0m\u001b[1;32m     73\u001b[0m \u001b[0;34m\u001b[0m\u001b[0m\n\u001b[1;32m     74\u001b[0m     \u001b[0;32mdef\u001b[0m \u001b[0mNumNodes\u001b[0m\u001b[0;34m(\u001b[0m\u001b[0mself\u001b[0m\u001b[0;34m)\u001b[0m \u001b[0;34m->\u001b[0m \u001b[0;34m\"operations_research::NodeIndex\"\u001b[0m\u001b[0;34m:\u001b[0m\u001b[0;34m\u001b[0m\u001b[0m\n",
      "\u001b[0;31mTypeError\u001b[0m: in method 'SimpleMaxFlow_AddArcWithCapacity', argument 2 of type 'operations_research::NodeIndex'"
     ]
    }
   ],
   "source": [
    "start_nodes = []\n",
    "end_nodes = []\n",
    "capacity = []\n",
    "for j in range(n):\n",
    "    start_nodes.append(ind)\n",
    "    end_nodes.append(j)\n",
    "    capacity.append(1)\n",
    "\n",
    "arcindex = n\n",
    "dict_arcs = {}\n",
    "\n",
    "for color in np.arange(len(C)):\n",
    "    for index in C[color]:\n",
    "        for i in F_prime:\n",
    "            if x_new[i,index] > 0:\n",
    "                start_nodes.append(index)\n",
    "                dictind = dict_enum[(i,color)]\n",
    "                end_nodes.append(dictind)\n",
    "                capacity.append(1)\n",
    "                dict_arcs[arcindex] = (index,(i,color))\n",
    "                arcindex += 1\n",
    "                \n",
    "for i in F_prime:\n",
    "    for color in np.arange(len(C)):\n",
    "        val = 0\n",
    "        for index in C[color]:\n",
    "            val += x_new[i,index]\n",
    "        val = np.ceil(val)\n",
    "        dictind = dict_enum[(i,color)]\n",
    "        start_nodes.append(dictind)\n",
    "        end_nodes.append(i)\n",
    "        capacity.append(val)\n",
    "\n",
    "for i in F_prime:\n",
    "    val = 0\n",
    "    for j in np.arange(n):\n",
    "        val += x_new[i,j]\n",
    "    val = np.ceil(val)\n",
    "    start_nodes.append(i)\n",
    "    end_nodes.append(ind+1)\n",
    "    capacity.append(val)\n",
    "\n",
    "max_flow = pywrapgraph.SimpleMaxFlow()\n",
    "for index in range(0, len(start_nodes)):\n",
    "    max_flow.AddArcWithCapacity(start_nodes[index], end_nodes[index], capacity[index])\n",
    "\n",
    "    \n",
    "new_x1 = np.zeros((n,n))\n",
    "if max_flow.Solve(ind, ind+1) == max_flow.OPTIMAL:\n",
    "    for index in np.arange(n,arcindex):\n",
    "        if max_flow.Flow(index) > 0:\n",
    "            j = dict_arcs[index][0]\n",
    "            i = dict_arcs[index][1][0]\n",
    "            col = dict_arcs[index][1][1]\n",
    "            new_x1[i,j] = 1"
   ]
  },
  {
   "cell_type": "code",
   "execution_count": 105,
   "metadata": {},
   "outputs": [
    {
     "name": "stdout",
     "output_type": "stream",
     "text": [
      "Max flow: 60\n",
      "\n",
      "  Arc    Flow / Capacity\n",
      "0 -> 1    20  /  20\n",
      "0 -> 2    30  /  30\n",
      "0 -> 3    10  /  10\n",
      "1 -> 2     0  /  40\n",
      "1 -> 4    20  /  30\n",
      "2 -> 3    10  /  10\n",
      "2 -> 4    20  /  20\n",
      "3 -> 2     0  /   5\n",
      "3 -> 4    20  /  20\n",
      "Source side min-cut: [0]\n",
      "Sink side min-cut: [4, 1]\n"
     ]
    }
   ],
   "source": [
    "  start_nodes = [0, 0, 0, 1, 1, 2, 2, 3, 3]\n",
    "  end_nodes = [1, 2, 3, 2, 4, 3, 4, 2, 4]\n",
    "  capacities = [20, 30, 10, 40, 30, 10, 20, 5, 20]\n",
    "\n",
    "  # Instantiate a SimpleMaxFlow solver.\n",
    "  max_flow = pywrapgraph.SimpleMaxFlow()\n",
    "  # Add each arc.\n",
    "  for i in range(0, len(start_nodes)):\n",
    "    max_flow.AddArcWithCapacity(start_nodes[i], end_nodes[i], capacities[i])\n",
    "\n",
    "  # Find the maximum flow between node 0 and node 4.\n",
    "  if max_flow.Solve(0, 4) == max_flow.OPTIMAL:\n",
    "    print('Max flow:', max_flow.OptimalFlow())\n",
    "    print('')\n",
    "    print('  Arc    Flow / Capacity')\n",
    "    for i in range(max_flow.NumArcs()):\n",
    "      print('%1s -> %1s   %3s  / %3s' % (\n",
    "          max_flow.Tail(i),\n",
    "          max_flow.Head(i),\n",
    "          max_flow.Flow(i),\n",
    "          max_flow.Capacity(i)))\n",
    "    print('Source side min-cut:', max_flow.GetSourceSideMinCut())\n",
    "    print('Sink side min-cut:', max_flow.GetSinkSideMinCut())\n",
    "  else:\n",
    "    print('There was an issue with the max flow input.')"
   ]
  },
  {
   "cell_type": "code",
   "execution_count": null,
   "metadata": {},
   "outputs": [],
   "source": []
  }
 ],
 "metadata": {
  "kernelspec": {
   "display_name": "Python 3",
   "language": "python",
   "name": "python3"
  },
  "language_info": {
   "codemirror_mode": {
    "name": "ipython",
    "version": 3
   },
   "file_extension": ".py",
   "mimetype": "text/x-python",
   "name": "python",
   "nbconvert_exporter": "python",
   "pygments_lexer": "ipython3",
   "version": "3.7.0"
  }
 },
 "nbformat": 4,
 "nbformat_minor": 2
}

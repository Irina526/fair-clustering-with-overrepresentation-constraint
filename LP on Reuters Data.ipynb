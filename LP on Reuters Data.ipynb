{
 "cells": [
  {
   "cell_type": "code",
   "execution_count": 2,
   "metadata": {},
   "outputs": [
    {
     "name": "stdout",
     "output_type": "stream",
     "text": [
      "Requirement already satisfied: ortools in c:\\users\\simran\\anaconda3\\lib\\site-packages (7.4.7247)\n",
      "Requirement already satisfied: protobuf>=3.10.0 in c:\\users\\simran\\anaconda3\\lib\\site-packages (from ortools) (3.10.0)\n",
      "Requirement already satisfied: six>=1.10 in c:\\users\\simran\\anaconda3\\lib\\site-packages (from ortools) (1.12.0)\n",
      "Requirement already satisfied: setuptools in c:\\users\\simran\\anaconda3\\lib\\site-packages (from protobuf>=3.10.0->ortools) (41.0.1)\n"
     ]
    }
   ],
   "source": [
    "import numpy as np\n",
    "import pandas as pd\n",
    "!pip install ortools;\n",
    "import ortools\n",
    "from ortools.linear_solver import pywraplp\n",
    "import pickle \n",
    "\n",
    "solver = pywraplp.Solver('LinearProgrammingExample',\n",
    "                         pywraplp.Solver.GLOP_LINEAR_PROGRAMMING)\n",
    "\n",
    "\n",
    "df = pd.read_pickle(\"dummy.pkl\")"
   ]
  },
  {
   "cell_type": "code",
   "execution_count": 3,
   "metadata": {},
   "outputs": [],
   "source": [
    "vectors = df[\"Vector\"]"
   ]
  },
  {
   "cell_type": "code",
   "execution_count": 4,
   "metadata": {},
   "outputs": [],
   "source": [
    "distances = np.zeros((2500,2500))\n",
    "from scipy.spatial import distance\n",
    "\n",
    "for i in range(len(vectors)):\n",
    "    a = vectors[i]\n",
    "    for j in range(len(vectors)):\n",
    "        b = vectors[j]\n",
    "        dst = distance.euclidean(a, b)\n",
    "        distances[i,j] = dst"
   ]
  },
  {
   "cell_type": "code",
   "execution_count": null,
   "metadata": {},
   "outputs": [],
   "source": [
    "#pickle \n",
    "#pickle.dump(distances, open(\"dist.pkl\", \"w\"))"
   ]
  },
  {
   "cell_type": "code",
   "execution_count": 38,
   "metadata": {},
   "outputs": [],
   "source": [
    "C = []\n",
    "authors = df[\"Author\"].unique()\n",
    "\n",
    "for i in authors:\n",
    "  df_sub = df[df[\"Author\"] == i]\n",
    "  C.append(df_sub.index.values)"
   ]
  },
  {
   "cell_type": "code",
   "execution_count": 36,
   "metadata": {},
   "outputs": [],
   "source": [
    "def LP(λ):    \n",
    "    x = []\n",
    "    y = []\n",
    "    a = 0.5\n",
    "    a_1 = np.ceil(1/a)\n",
    "    colors = 50\n",
    "    k = 25\n",
    "    lam = λ\n",
    "    n = 2500\n",
    "    solver = pywraplp.Solver('LP',\n",
    "                             pywraplp.Solver.GLOP_LINEAR_PROGRAMMING)\n",
    "\n",
    "    objective = solver.Objective()\n",
    "    for i in range(n):\n",
    "      x.append([])\n",
    "      for j in range(n):\n",
    "        x[i].append(solver.NumVar(0.0, 1.0,'x'))\n",
    "        y.append(solver.NumVar(0.0, 1.0,'y'))\n",
    "        objective.SetCoefficient(x[i][j], 1)\n",
    "    objective.SetMaximization()\n",
    "\n",
    "    constraint = []\n",
    "    for j in range(n):\n",
    "      constraint.append(solver.Constraint(1, 1))\n",
    "      for i in range(n):\n",
    "        constraint[j].SetCoefficient(x[i][j],1)\n",
    "\n",
    "    for i in range(n):\n",
    "      for j in range(n):\n",
    "        constraint.append(solver.Constraint(-solver.infinity(), 0))\n",
    "        constraint[-1].SetCoefficient(x[i][j],1)\n",
    "        constraint[-1].SetCoefficient(y[i],-1)\n",
    "\n",
    "    for i in range(colors):\n",
    "      constraint.append(solver.Constraint(-solver.infinity(), 0))\n",
    "      for j in range(n):\n",
    "        constraint[-1].SetCoefficient(x[i][j],-a)\n",
    "        if j in C[i]:\n",
    "          constraint[-1].SetCoefficient(x[i][j],1-a)\n",
    "\n",
    "    for i in range(n):\n",
    "      constraint.append(solver.Constraint(0, solver.infinity()))\n",
    "      for j in range(n):\n",
    "        constraint[-1].SetCoefficient(x[i][j],1)\n",
    "        constraint[-1].SetCoefficient(y[i],-a_1)\n",
    "\n",
    "    constraint.append(solver.Constraint(0, k))\n",
    "    for i in range(n):\n",
    "      constraint[-1].SetCoefficient(y[i],1)\n",
    "\n",
    "    for i in range(n):\n",
    "      for j in range(n):\n",
    "        if distances[i,j] > lam:\n",
    "          constraint.append(solver.Constraint(0, 0))\n",
    "          constraint[-1].SetCoefficient(x[i][j],1)\n",
    "\n",
    "    status = solver.Solve()\n",
    "    status == solver.OPTIMAL\n",
    "    \n",
    "    if solver.OPTIMAL == True:\n",
    "        X_sol = np.zeros((n,n))\n",
    "        Y_sol = []\n",
    "        for i in range(n):\n",
    "            Y_sol.append(y[i].solution_value())\n",
    "            for j in range(n):\n",
    "                X_sol[i,j] = x[i][j].solution_value()\n",
    "        return (X_sol, Y_sol)\n",
    "    else: \n",
    "        return False"
   ]
  },
  {
   "cell_type": "code",
   "execution_count": null,
   "metadata": {},
   "outputs": [],
   "source": [
    "λ = 19/2\n",
    "factor = 1.1\n",
    "\n",
    "while LP(λ) == False: \n",
    "    λ = λ * factor\n",
    "\n",
    "sol = LP(λ)"
   ]
  },
  {
   "cell_type": "code",
   "execution_count": 39,
   "metadata": {},
   "outputs": [
    {
     "ename": "KeyboardInterrupt",
     "evalue": "",
     "output_type": "error",
     "traceback": [
      "\u001b[1;31m---------------------------------------------------------------------------\u001b[0m",
      "\u001b[1;31mKeyboardInterrupt\u001b[0m                         Traceback (most recent call last)",
      "\u001b[1;32m<ipython-input-39-3f3e95b54ff2>\u001b[0m in \u001b[0;36m<module>\u001b[1;34m\u001b[0m\n\u001b[1;32m----> 1\u001b[1;33m \u001b[0mLP\u001b[0m\u001b[1;33m(\u001b[0m\u001b[1;36m13\u001b[0m\u001b[1;33m)\u001b[0m\u001b[1;33m\u001b[0m\u001b[1;33m\u001b[0m\u001b[0m\n\u001b[0m",
      "\u001b[1;32m<ipython-input-36-7338bd62ec4f>\u001b[0m in \u001b[0;36mLP\u001b[1;34m(λ)\u001b[0m\n\u001b[0;32m     24\u001b[0m       \u001b[0mconstraint\u001b[0m\u001b[1;33m.\u001b[0m\u001b[0mappend\u001b[0m\u001b[1;33m(\u001b[0m\u001b[0msolver\u001b[0m\u001b[1;33m.\u001b[0m\u001b[0mConstraint\u001b[0m\u001b[1;33m(\u001b[0m\u001b[1;36m1\u001b[0m\u001b[1;33m,\u001b[0m \u001b[1;36m1\u001b[0m\u001b[1;33m)\u001b[0m\u001b[1;33m)\u001b[0m\u001b[1;33m\u001b[0m\u001b[1;33m\u001b[0m\u001b[0m\n\u001b[0;32m     25\u001b[0m       \u001b[1;32mfor\u001b[0m \u001b[0mi\u001b[0m \u001b[1;32min\u001b[0m \u001b[0mrange\u001b[0m\u001b[1;33m(\u001b[0m\u001b[0mn\u001b[0m\u001b[1;33m)\u001b[0m\u001b[1;33m:\u001b[0m\u001b[1;33m\u001b[0m\u001b[1;33m\u001b[0m\u001b[0m\n\u001b[1;32m---> 26\u001b[1;33m         \u001b[0mconstraint\u001b[0m\u001b[1;33m[\u001b[0m\u001b[0mj\u001b[0m\u001b[1;33m]\u001b[0m\u001b[1;33m.\u001b[0m\u001b[0mSetCoefficient\u001b[0m\u001b[1;33m(\u001b[0m\u001b[0mx\u001b[0m\u001b[1;33m[\u001b[0m\u001b[0mi\u001b[0m\u001b[1;33m]\u001b[0m\u001b[1;33m[\u001b[0m\u001b[0mj\u001b[0m\u001b[1;33m]\u001b[0m\u001b[1;33m,\u001b[0m\u001b[1;36m1\u001b[0m\u001b[1;33m)\u001b[0m\u001b[1;33m\u001b[0m\u001b[1;33m\u001b[0m\u001b[0m\n\u001b[0m\u001b[0;32m     27\u001b[0m \u001b[1;33m\u001b[0m\u001b[0m\n\u001b[0;32m     28\u001b[0m     \u001b[1;32mfor\u001b[0m \u001b[0mi\u001b[0m \u001b[1;32min\u001b[0m \u001b[0mrange\u001b[0m\u001b[1;33m(\u001b[0m\u001b[0mn\u001b[0m\u001b[1;33m)\u001b[0m\u001b[1;33m:\u001b[0m\u001b[1;33m\u001b[0m\u001b[1;33m\u001b[0m\u001b[0m\n",
      "\u001b[1;31mKeyboardInterrupt\u001b[0m: "
     ]
    }
   ],
   "source": [
    "LP(13)"
   ]
  },
  {
   "cell_type": "code",
   "execution_count": 14,
   "metadata": {},
   "outputs": [],
   "source": [
    "x = pd.read_pickle(\"X15.pkl\")\n",
    "y = pd.read_pickle(\"Y15.pkl\")\n",
    "sol = (x,y)\n",
    "n = 2500"
   ]
  },
  {
   "cell_type": "code",
   "execution_count": 15,
   "metadata": {},
   "outputs": [
    {
     "name": "stdout",
     "output_type": "stream",
     "text": [
      "2500.0000000002515 24.999999999999865\n"
     ]
    }
   ],
   "source": [
    "v = 0\n",
    "z = 0\n",
    "for i in range(n):\n",
    "  z += sol[1][i]\n",
    "  for j in range(n):\n",
    "    v+= sol[0][i,j]\n",
    "print(v,z)"
   ]
  },
  {
   "cell_type": "code",
   "execution_count": 16,
   "metadata": {},
   "outputs": [],
   "source": [
    "\n",
    "v = 0\n",
    "z = 0\n",
    "F = []\n",
    "for i in range(n):\n",
    "    if sol[1][i] > 0:\n",
    "        F.append(i)\n",
    "\n",
    "dist = np.zeros((n,n))\n",
    "\n",
    "for i in F:\n",
    "    for j in F:\n",
    "        if i != j:\n",
    "            dist[i,j]=distances[i,j]\n"
   ]
  },
  {
   "cell_type": "code",
   "execution_count": 136,
   "metadata": {},
   "outputs": [
    {
     "data": {
      "text/plain": [
       "array([[1.00000000e+06, 1.00000000e+06, 1.00000000e+06, ...,\n",
       "        1.00000000e+06, 1.00000000e+06, 1.00000000e+06],\n",
       "       [1.00000000e+06, 1.00000000e+06, 1.00000000e+06, ...,\n",
       "        1.00000000e+06, 1.00000000e+06, 1.00000000e+06],\n",
       "       [1.00000000e+06, 1.00000000e+06, 1.00000000e+06, ...,\n",
       "        1.00000000e+06, 1.00000000e+06, 1.00000000e+06],\n",
       "       ...,\n",
       "       [1.00000000e+06, 1.00000000e+06, 1.00000000e+06, ...,\n",
       "        1.00000000e+06, 1.11989784e+01, 1.92325687e+01],\n",
       "       [1.00000000e+06, 1.00000000e+06, 1.00000000e+06, ...,\n",
       "        1.11989784e+01, 1.00000000e+06, 2.12009296e+01],\n",
       "       [1.00000000e+06, 1.00000000e+06, 1.00000000e+06, ...,\n",
       "        1.92325687e+01, 2.12009296e+01, 1.00000000e+06]])"
      ]
     },
     "execution_count": 136,
     "metadata": {},
     "output_type": "execute_result"
    }
   ],
   "source": [
    "dist"
   ]
  },
  {
   "cell_type": "code",
   "execution_count": 28,
   "metadata": {},
   "outputs": [],
   "source": [
    "def greedy_lambda(F, F_distances, lamb):\n",
    "    removed = set()\n",
    "    Fcopy = F.copy()\n",
    "    Fcopy1 = F.copy()\n",
    "    for i in Fcopy:\n",
    "        if i not in removed:\n",
    "            for j in Fcopy:\n",
    "                if j not in removed:\n",
    "                    if (i == j):\n",
    "                        pass\n",
    "                    elif (F_distances[i,j] < 2*lamb):\n",
    "                        Fcopy1.remove(j)\n",
    "                        removed.add(j)\n",
    "    return Fcopy1"
   ]
  },
  {
   "cell_type": "code",
   "execution_count": 25,
   "metadata": {},
   "outputs": [],
   "source": [
    "def greedy_lam(F, dist, lam):\n",
    "    removed = []\n",
    "    Fcopy = F.copy()\n",
    "    for i in F: \n",
    "        for j in F: \n",
    "            if i not in removed and j not in removed and i!=j: \n",
    "                if distances[i,j] < 2*lam: \n",
    "                    Fcopy.remove(j)\n",
    "                    removed.append(j)\n",
    "    return Fcopy"
   ]
  },
  {
   "cell_type": "code",
   "execution_count": null,
   "metadata": {},
   "outputs": [],
   "source": []
  },
  {
   "cell_type": "code",
   "execution_count": null,
   "metadata": {},
   "outputs": [],
   "source": []
  },
  {
   "cell_type": "code",
   "execution_count": null,
   "metadata": {},
   "outputs": [],
   "source": []
  },
  {
   "cell_type": "code",
   "execution_count": null,
   "metadata": {},
   "outputs": [],
   "source": []
  },
  {
   "cell_type": "code",
   "execution_count": 25,
   "metadata": {},
   "outputs": [],
   "source": [
    "d = {}\n",
    "for f in F:\n",
    "    if f in F_prime: \n",
    "        d[f] = []\n",
    "        d[f].append(f)\n",
    "    else:\n",
    "        for i in F_prime:\n",
    "            if dist[f,i] < 2*lam:\n",
    "                if i in d:\n",
    "                    d[i].append(f)\n",
    "                else:\n",
    "                    d[i] = []\n",
    "                    d[i].append(f)\n",
    "                break\n"
   ]
  },
  {
   "cell_type": "code",
   "execution_count": 27,
   "metadata": {},
   "outputs": [
    {
     "data": {
      "text/plain": [
       "{92: [92],\n",
       " 93: [93],\n",
       " 2415: [2415, 2493, 2497, 2498, 2499],\n",
       " 179: [179],\n",
       " 431: [431],\n",
       " 513: [513],\n",
       " 544: [544],\n",
       " 677: [677],\n",
       " 718: [718],\n",
       " 956: [956],\n",
       " 976: [976],\n",
       " 1040: [1040],\n",
       " 1293: [1293],\n",
       " 1303: [1303],\n",
       " 1634: [1634],\n",
       " 2495: [2495],\n",
       " 2496: [2496]}"
      ]
     },
     "execution_count": 27,
     "metadata": {},
     "output_type": "execute_result"
    }
   ],
   "source": [
    "x_new = np.zeros((n,n))\n",
    "for j in np.arange(n): \n",
    "    for i in F_prime: \n",
    "        for element in d[i]: \n",
    "            x_new[i,j] += sol[0][element,j]"
   ]
  },
  {
   "cell_type": "code",
   "execution_count": null,
   "metadata": {},
   "outputs": [],
   "source": []
  }
 ],
 "metadata": {
  "kernelspec": {
   "display_name": "Python 3",
   "language": "python",
   "name": "python3"
  },
  "language_info": {
   "codemirror_mode": {
    "name": "ipython",
    "version": 3
   },
   "file_extension": ".py",
   "mimetype": "text/x-python",
   "name": "python",
   "nbconvert_exporter": "python",
   "pygments_lexer": "ipython3",
   "version": "3.7.3"
  }
 },
 "nbformat": 4,
 "nbformat_minor": 2
}
